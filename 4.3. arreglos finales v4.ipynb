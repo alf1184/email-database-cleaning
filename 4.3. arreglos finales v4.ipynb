{
 "cells": [
  {
   "cell_type": "code",
   "execution_count": null,
   "id": "17541fb9",
   "metadata": {},
   "outputs": [],
   "source": [
    "import pandas as pd\n",
    "import os\n",
    "from bs4 import UnicodeDammit\n",
    "import re\n",
    "import numpy as np"
   ]
  },
  {
   "cell_type": "code",
   "execution_count": null,
   "id": "9847d4a5",
   "metadata": {},
   "outputs": [],
   "source": [
    "# Estableciendo directorio\n",
    "tar = os.chdir(r\"undisclosed\")\n",
    "\n",
    "# Leyendo base\n",
    "df_contacts = pd.read_csv(\"final_versions/df_contacts_extended_genderized_arranged.csv\")"
   ]
  },
  {
   "cell_type": "code",
   "execution_count": null,
   "id": "67cc7506",
   "metadata": {},
   "outputs": [],
   "source": [
    "len(df_contacts)"
   ]
  },
  {
   "cell_type": "markdown",
   "id": "fc4dde4b",
   "metadata": {},
   "source": [
    "### Arreglando teléfonos"
   ]
  },
  {
   "cell_type": "code",
   "execution_count": null,
   "id": "ecc24348",
   "metadata": {
    "scrolled": true
   },
   "outputs": [],
   "source": [
    "df_contacts.tel"
   ]
  },
  {
   "cell_type": "code",
   "execution_count": null,
   "id": "40fd9106",
   "metadata": {},
   "outputs": [],
   "source": [
    "# Removiendo signo + en teléfonos\n",
    "\n",
    "# define lambda function to remove '+' from 'tel' values that start with '+569'\n",
    "def remove_plus(x):\n",
    "    if isinstance(x, str) and x.startswith('+569'):\n",
    "        return x[1:]\n",
    "    else:\n",
    "        return x\n",
    "\n",
    "# apply lambda function to 'tel' column\n",
    "df_contacts['tel'] = df_contacts['tel'].apply(lambda x: remove_plus(x))\n",
    "\n",
    "print(df_contacts.tel)"
   ]
  },
  {
   "cell_type": "code",
   "execution_count": null,
   "id": "5a0424d5",
   "metadata": {},
   "outputs": [],
   "source": [
    "df_contacts.c1.head(20)"
   ]
  },
  {
   "cell_type": "code",
   "execution_count": null,
   "id": "3b62a32f",
   "metadata": {},
   "outputs": [],
   "source": [
    "df_contacts.c4.head(20)"
   ]
  },
  {
   "cell_type": "code",
   "execution_count": null,
   "id": "6c6d94ea",
   "metadata": {},
   "outputs": [],
   "source": [
    "#Filling c1\n",
    "\n",
    "df_contacts.loc[df_contacts['c1'].isna() & df_contacts['c4'].notna(), 'c1'] = df_contacts['c4']\n",
    "\n",
    "df_contacts.c1.head(20)"
   ]
  },
  {
   "cell_type": "code",
   "execution_count": null,
   "id": "48d5727a",
   "metadata": {},
   "outputs": [],
   "source": [
    "df_contacts['c1'] = df_contacts['c1'].replace('CEPES', 'CEPSA')"
   ]
  },
  {
   "cell_type": "code",
   "execution_count": null,
   "id": "0dc1ce37",
   "metadata": {},
   "outputs": [],
   "source": []
  },
  {
   "cell_type": "markdown",
   "id": "a53b744a",
   "metadata": {},
   "source": [
    "### Arreglando fecha de nacimiento"
   ]
  },
  {
   "cell_type": "code",
   "execution_count": null,
   "id": "231f0be0",
   "metadata": {},
   "outputs": [],
   "source": [
    "df_contacts.fecha_nacimiento.isna().sum()"
   ]
  },
  {
   "cell_type": "code",
   "execution_count": null,
   "id": "da1ff5c3",
   "metadata": {},
   "outputs": [],
   "source": [
    "# convert 'fecha_nacimiento' to datetime object and format as 'dd/mm/yyyy'\n",
    "df_contacts['fecha_nacimiento_1'] = pd.to_datetime(df_contacts['fecha_nacimiento'], errors='coerce').dt.strftime('%d/%m/%Y')"
   ]
  },
  {
   "cell_type": "code",
   "execution_count": null,
   "id": "dc07f538",
   "metadata": {},
   "outputs": [],
   "source": [
    "df_contacts.fecha_nacimiento.isna().sum()"
   ]
  },
  {
   "cell_type": "markdown",
   "id": "729c88ff",
   "metadata": {},
   "source": [
    "### Categorizando ocupación: Profesión"
   ]
  },
  {
   "cell_type": "code",
   "execution_count": null,
   "id": "ad96d3bf",
   "metadata": {},
   "outputs": [],
   "source": [
    "df_contacts['categoria_ocupacion'] = 0"
   ]
  },
  {
   "cell_type": "code",
   "execution_count": null,
   "id": "aeefc8ff",
   "metadata": {},
   "outputs": [],
   "source": [
    "#Generalizable?\n",
    "'''\n",
    "def contains_economia(string):\n",
    "    # create a regular expression pattern that matches whole words in the list, ignoring case and accents\n",
    "    pattern = r\"\\b(\" + \"|\".join([re.escape(s) for s in economia_finanzas]) + r\")\\b\"\n",
    "    return re.search(pattern, string, flags=re.IGNORECASE | re.UNICODE) is not None\n",
    "\n",
    "def is_contained(df, list, searched_column, imputed_column, code):\n",
    "    df[imputed_column] = df['profesion_procesada_corregida'].apply(lambda x: 4 if (type(x) == str and contains_public_institution(\" \" + x.lower() + \" \")) else df_contacts['categoria_ocupacion'][df_contacts['profesion_procesada_corregida'] == x].iloc[0] if type(x) == str else x)\n",
    "'''"
   ]
  },
  {
   "cell_type": "code",
   "execution_count": null,
   "id": "b44ab0df",
   "metadata": {},
   "outputs": [],
   "source": [
    "academia = [\n",
    "    'docente',\n",
    "    'profesor',\n",
    "    'profesora',\n",
    "    'investigador',\n",
    "    'investigadora',\n",
    "    'Investigador',\n",
    "    'Profesor'\n",
    "]\n",
    "\n",
    "def contains_academia(string):\n",
    "    # create a regular expression pattern that matches partial matches of the strings in the list, ignoring case and accents\n",
    "    pattern = r\"(^|\\W)(\" + \"|\".join([re.escape(s) for s in academia]) + r\")(\\W|$)\"\n",
    "    return re.search(pattern, str(string), flags=re.IGNORECASE | re.UNICODE) is not None\n",
    "\n",
    "# apply the function to the 'institucion_procesada' column and assign 2 to 'categoria_ocupacion' if a match is found\n",
    "df_contacts['categoria_ocupacion'] = df_contacts['profesion_procesada_corregida'].apply(lambda x: 2 if (type(x) == str and contains_academia(x)) else np.nan if pd.isna(x) else df_contacts['categoria_ocupacion'][df_contacts['profesion_procesada_corregida'] == x].iloc[0] if type(x) == str else x)\n",
    "\n",
    "'''\n",
    "def contains_academia(string):\n",
    "    # create a regular expression pattern that matches whole words in the list, ignoring case and accents\n",
    "    pattern = r\"\\b(\" + \"|\".join([re.escape(s) for s in academia]) + r\")\\b\"\n",
    "    return re.search(pattern, string, flags=re.IGNORECASE | re.UNICODE) is not None\n",
    "\n",
    "# apply the function to the 'institucion_procesada' column and assign 2 to 'categoria_ocupacion' if a match is found\n",
    "df_contacts['categoria_ocupacion'] = df_contacts['profesion_procesada_corregida'].apply(lambda x: 2 if (type(x) == str and contains_academia(\" \" + x.lower() + \" \")) else df_contacts['categoria_ocupacion'][df_contacts['profesion_procesada_corregida'] == x].iloc[0] if type(x) == str else x)\n",
    "'''"
   ]
  },
  {
   "cell_type": "code",
   "execution_count": null,
   "id": "302776bb",
   "metadata": {},
   "outputs": [],
   "source": [
    "def update_category(row):\n",
    "    if pd.isna(row[\"profesion_procesada_corregida\"]) or row[\"profesion_procesada_corregida\"] == \"\":\n",
    "        return row[\"categoria_ocupacion\"]\n",
    "    elif \"Profesor\" in row[\"profesion_procesada_corregida\"]:\n",
    "        return 2\n",
    "    else:\n",
    "        return row[\"categoria_ocupacion\"]\n",
    "\n",
    "df_contacts[\"categoria_ocupacion\"] = df_contacts.apply(update_category, axis=1)"
   ]
  },
  {
   "cell_type": "code",
   "execution_count": null,
   "id": "4388000d",
   "metadata": {},
   "outputs": [],
   "source": [
    "#df_prof = df_contacts.query('profesion_procesada_corregida == Profesor')"
   ]
  },
  {
   "cell_type": "code",
   "execution_count": null,
   "id": "ceb88576",
   "metadata": {},
   "outputs": [],
   "source": [
    "df_contacts.profesion_procesada_corregida.iloc[2138]"
   ]
  },
  {
   "cell_type": "code",
   "execution_count": null,
   "id": "c0c26316",
   "metadata": {},
   "outputs": [],
   "source": [
    "economia_finanzas = [\n",
    "    'finanzas',\n",
    "    'economista',\n",
    "    'economía',\n",
    "    'contador',\n",
    "    'ingeniero comercial',\n",
    "    'Contador'\n",
    "]\n",
    "\n",
    "def contains_economia(string):\n",
    "    # create a regular expression pattern that matches whole words in the list, ignoring case and accents\n",
    "    pattern = r\"\\b(\" + \"|\".join([re.escape(s) for s in economia_finanzas]) + r\")\\b\"\n",
    "    return re.search(pattern, string, flags=re.IGNORECASE | re.UNICODE) is not None\n",
    "\n",
    "# apply the function to the 'institucion_procesada' column and assign 2 to 'categoria_ocupacion' if a match is found\n",
    "df_contacts['categoria_ocupacion'] = df_contacts['profesion_procesada_corregida'].apply(lambda x: 4 if (type(x) == str and contains_economia(\" \" + x.lower() + \" \")) else df_contacts['categoria_ocupacion'][df_contacts['profesion_procesada_corregida'] == x].iloc[0] if type(x) == str else x)"
   ]
  },
  {
   "cell_type": "code",
   "execution_count": null,
   "id": "b39e6821",
   "metadata": {},
   "outputs": [],
   "source": [
    "def update_category(row):\n",
    "    if pd.isna(row[\"profesion_procesada_corregida\"]) or row[\"profesion_procesada_corregida\"] == \"\":\n",
    "        return row[\"categoria_ocupacion\"]\n",
    "    elif \"Ingeniero comercial\" in row[\"profesion_procesada_corregida\"]:\n",
    "        return 4\n",
    "    else:\n",
    "        return row[\"categoria_ocupacion\"]\n",
    "    \n",
    "df_contacts[\"categoria_ocupacion\"] = df_contacts.apply(update_category, axis=1)"
   ]
  },
  {
   "cell_type": "code",
   "execution_count": null,
   "id": "b7f88e10",
   "metadata": {},
   "outputs": [],
   "source": [
    "ingenieria = [\n",
    "    'ingeniero',\n",
    "    'ingeniería',\n",
    "    'ingeniera',\n",
    "    'Ingeniero'\n",
    "]\n",
    "\n",
    "def contains_ingenieria(string):\n",
    "    # create a regular expression pattern that matches whole words in the list, ignoring case and accents\n",
    "    pattern = r\"\\b(\" + \"|\".join([re.escape(s) for s in ingenieria]) + r\")\\b\"\n",
    "    return re.search(pattern, string, flags=re.IGNORECASE | re.UNICODE) is not None\n",
    "\n",
    "# apply the function to the 'institucion_procesada' column and assign 2 to 'categoria_ocupacion' if a match is found\n",
    "df_contacts['categoria_ocupacion'] = df_contacts['profesion_procesada_corregida'].apply(lambda x: 5 if (type(x) == str and contains_ingenieria(\" \" + x.lower() + \" \")) else df_contacts['categoria_ocupacion'][df_contacts['profesion_procesada_corregida'] == x].iloc[0] if type(x) == str else x)"
   ]
  },
  {
   "cell_type": "code",
   "execution_count": null,
   "id": "aaff0da3",
   "metadata": {},
   "outputs": [],
   "source": [
    "empresarios_ejecutivos = [\n",
    "    'gerente',\n",
    "    'presidente',\n",
    "    'director',\n",
    "    'directora',\n",
    "    'empresario',\n",
    "    'empresaria'\n",
    "]\n",
    "\n",
    "def contains_empresarios(string):\n",
    "    # create a regular expression pattern that matches whole words in the list, ignoring case and accents\n",
    "    pattern = r\"\\b(\" + \"|\".join([re.escape(s) for s in empresarios_ejecutivos]) + r\")\\b\"\n",
    "    return re.search(pattern, string, flags=re.IGNORECASE | re.UNICODE) is not None\n",
    "\n",
    "# apply the function to the 'institucion_procesada' column and assign 2 to 'categoria_ocupacion' if a match is found\n",
    "df_contacts['categoria_ocupacion'] = df_contacts['profesion_procesada_corregida'].apply(lambda x: 6 if (type(x) == str and contains_empresarios(\" \" + x.lower() + \" \")) else df_contacts['categoria_ocupacion'][df_contacts['profesion_procesada_corregida'] == x].iloc[0] if type(x) == str else x)"
   ]
  },
  {
   "cell_type": "code",
   "execution_count": null,
   "id": "b026624d",
   "metadata": {},
   "outputs": [],
   "source": [
    "salud = [\n",
    "    'médico',\n",
    "    'médica',\n",
    "    'enfermera',\n",
    "    'enfermero',\n",
    "    'directora',\n",
    "    'psicóloga',\n",
    "    'psicólogo',\n",
    "    'Enfermero'\n",
    "]\n",
    "\n",
    "def contains_salud(string):\n",
    "    # create a regular expression pattern that matches whole words in the list, ignoring case and accents\n",
    "    pattern = r\"\\b(\" + \"|\".join([re.escape(s) for s in salud]) + r\")\\b\"\n",
    "    return re.search(pattern, string, flags=re.IGNORECASE | re.UNICODE) is not None\n",
    "\n",
    "# apply the function to the 'institucion_procesada' column and assign 2 to 'categoria_ocupacion' if a match is found\n",
    "df_contacts['categoria_ocupacion'] = df_contacts['profesion_procesada_corregida'].apply(lambda x: 7 if (type(x) == str and contains_salud(\" \" + x.lower() + \" \")) else df_contacts['categoria_ocupacion'][df_contacts['profesion_procesada_corregida'] == x].iloc[0] if type(x) == str else x)"
   ]
  },
  {
   "cell_type": "code",
   "execution_count": null,
   "id": "fa5eae97",
   "metadata": {},
   "outputs": [],
   "source": [
    "sociologia_ciencias_politicas = [\n",
    "    'cientista político',\n",
    "    'cientista política',\n",
    "    'politólogo',\n",
    "    'politóloga',\n",
    "    'sociólogo',\n",
    "    'socióloga',\n",
    "    'sociología'\n",
    "]\n",
    "\n",
    "def contains_sociologia(string):\n",
    "    # create a regular expression pattern that matches whole words in the list, ignoring case and accents\n",
    "    pattern = r\"\\b(\" + \"|\".join([re.escape(s) for s in sociologia_ciencias_politicas]) + r\")\\b\"\n",
    "    return re.search(pattern, string, flags=re.IGNORECASE | re.UNICODE) is not None\n",
    "\n",
    "# apply the function to the 'institucion_procesada' column and assign 2 to 'categoria_ocupacion' if a match is found\n",
    "df_contacts['categoria_ocupacion'] = df_contacts['profesion_procesada_corregida'].apply(lambda x: 8 if (type(x) == str and contains_sociologia(\" \" + x.lower() + \" \")) else df_contacts['categoria_ocupacion'][df_contacts['profesion_procesada_corregida'] == x].iloc[0] if type(x) == str else x)"
   ]
  },
  {
   "cell_type": "code",
   "execution_count": null,
   "id": "3a30e973",
   "metadata": {},
   "outputs": [],
   "source": [
    "abogados = [\n",
    "    'abogado',\n",
    "    'abogada',\n",
    "    'derecho',\n",
    "    'abogados'\n",
    "]\n",
    "\n",
    "def contains_abogado(string):\n",
    "    # create a regular expression pattern that matches whole words in the list, ignoring case and accents\n",
    "    pattern = r\"\\b(\" + \"|\".join([re.escape(s) for s in abogados]) + r\")\\b\"\n",
    "    return re.search(pattern, string, flags=re.IGNORECASE | re.UNICODE) is not None\n",
    "\n",
    "# apply the function to the 'institucion_procesada' column and assign 2 to 'categoria_ocupacion' if a match is found\n",
    "df_contacts['categoria_ocupacion'] = df_contacts['profesion_procesada_corregida'].apply(lambda x: 9 if (type(x) == str and contains_abogado(\" \" + x.lower() + \" \")) else df_contacts['categoria_ocupacion'][df_contacts['profesion_procesada_corregida'] == x].iloc[0] if type(x) == str else x)"
   ]
  },
  {
   "cell_type": "code",
   "execution_count": null,
   "id": "96fdcf89",
   "metadata": {},
   "outputs": [],
   "source": [
    "agronomia_forestales = [\n",
    "    'agronomo',\n",
    "    'forestal',\n",
    "    'Agrónomo'\n",
    "]\n",
    "\n",
    "def contains_agronomo(string):\n",
    "    # create a regular expression pattern that matches whole words in the list, ignoring case and accents\n",
    "    pattern = r\"\\b(\" + \"|\".join([re.escape(s) for s in agronomia_forestales]) + r\")\\b\"\n",
    "    return re.search(pattern, string, flags=re.IGNORECASE | re.UNICODE) is not None\n",
    "\n",
    "# apply the function to the 'institucion_procesada' column and assign 2 to 'categoria_ocupacion' if a match is found\n",
    "df_contacts['categoria_ocupacion'] = df_contacts['profesion_procesada_corregida'].apply(lambda x: 10 if (type(x) == str and contains_agronomo(\" \" + x.lower() + \" \")) else df_contacts['categoria_ocupacion'][df_contacts['profesion_procesada_corregida'] == x].iloc[0] if type(x) == str else x)"
   ]
  },
  {
   "cell_type": "markdown",
   "id": "bbd2e13b",
   "metadata": {},
   "source": [
    "### Categorizando ocupación: Institución"
   ]
  },
  {
   "cell_type": "code",
   "execution_count": null,
   "id": "1db0e0cc",
   "metadata": {},
   "outputs": [],
   "source": [
    "instituciones_publicas = [\n",
    "    \"BancoEstado\", \"BE\",\n",
    "    \"Caja de Previsión de la Defensa Nacional\", \"CAPREDENA\",\n",
    "    \"Caja de Previsión de la Policía de Investigaciones de Chile\", \"DIPRECA\",\n",
    "    \"Caja de Previsión de la Seguridad Social\", \"IPS\",\n",
    "    \"Caja de Previsión de los Carabineros de Chile\", \"CARE\",\n",
    "    \"Caja Nacional de Empleados Públicos y Periodistas\", \"CNP\",\n",
    "    \"Comisión Nacional de Investigación Científica y Tecnológica\", \"CONICYT\",\n",
    "    \"Consejo Nacional de la Cultura y las Artes\", \"CNCA\",\n",
    "    \"Contraloría General de la República\", \"CGR\",\n",
    "    \"Corporación de Fomento de la Producción\", \"CORFO\",\n",
    "    \"Corporación Nacional del Cobre de Chile\", \"Codelco\",\n",
    "    \"Corporación Nacional Forestal\", \"CONAF\",\n",
    "    \"Dirección de Aeropuertos\", \"DAP\",\n",
    "    \"Dirección de Bibliotecas, Archivos y Museos\", \"DIBAM\",\n",
    "    \"Dirección de Compras y Contratación Pública\", \"CHILECOMPRA\",\n",
    "    \"Dirección de Obras Hidráulicas\", \"DOH\",\n",
    "    \"Dirección General de Aeronáutica Civil\", \"DGAC\",\n",
    "    \"Dirección General de Aguas\", \"DGA\",\n",
    "    \"Dirección General de Movilización Nacional\", \"DGMN\",\n",
    "    \"Dirección General de Obras Públicas\", \"DGOP\",\n",
    "    \"Dirección General del Crédito Prendario\", \"DICREP\",\n",
    "    \"Dirección General del Territorio Marítimo y de Marina Mercante\", \"DIRECTEMAR\",\n",
    "    \"Dirección Nacional de Fronteras y Límites del Estado\", \"DIFROL\",\n",
    "    \"Empresa de Ferrocarriles del Estado\", \"EFE\",\n",
    "    \"Empresa Nacional del Petróleo\", \"ENAP\",\n",
    "    \"Fondo de Solidaridad e Inversión Social\", \"FOSIS\",\n",
    "    \"Fondo Nacional de Salud\", \"FONASA\",\n",
    "    \"Fondo Nacional de Desarrollo Regional\", \"FNDR\",\n",
    "    \"Fondo Nacional de Seguridad Pública\", \"FNSP\",\n",
    "    \"Instituto de Desarrollo Agropecuario\", \"INDAP\",\n",
    "    \"Junta Nacional de Jardines Infantiles\", \"JUNJI\",\n",
    "    \"Ministerio de Agricultura\", \"MINAGRI\",\n",
    "    \"Ministerio de Bienes Nacionales\", \"MINBAS\",\n",
    "    \"Ministerio de Desarrollo Social y Familia\", \"MDS\",\n",
    "    \"Ministerio de Educación\", \"MINEDUC\",\n",
    "    \"Ministerio de Energía\", \"MINENERGIA\",\n",
    "    \"Ministerio de Hacienda\", \"MINHACIENDA\",\n",
    "    \"Ministerio de Justicia y Derechos Humanos\", \"MINJUSTICIA\",\n",
    "    \"Ministerio de Obras Públicas\", \"MOP\",\n",
    "    \"Ministerio de Relaciones Exteriores\", \"MINREL\",\n",
    "    \"Ministerio de Salud\", \"MINSAL\",\n",
    "    \"Ministerio de Transportes y Telecomunicaciones\", \"MTT\",\n",
    "    \"Municipalidad\", \"MUNI\",\n",
    "    \"Oficina Nacional de Emergencia\", \"ONEMI\",\n",
    "    \"Programa de las Naciones Unidas para el Desarrollo\", \"PNUD\",\n",
    "    \"Registro Civil e Identificación\", \"RCI\",\n",
    "    \"Servicio Agrícola y Ganadero\", \"SAG\",\n",
    "    \"Servicio Electoral\", \"SERVEL\",\n",
    "    \"Servicio Hidrográfico y Oceanográfico de la Armada\", \"SHOA\",\n",
    "    \"Servicio Médico Legal\", \"SML\",\n",
    "    \"Servicio Nacional de Aduanas\", \"ADUANAS\",\n",
    "    \"Servicio Nacional de Capacitación y Empleo\", \"SENCE\",\n",
    "    \"Servicio Nacional de Geología y Minería\", \"SERNAGEOMIN\",\n",
    "    \"Servicio Nacional de la Discapacidad\", \"SENADIS\",\n",
    "    \"Servicio Nacional de la Mujer y la Equidad de Género\", \"SERNAMEG\",\n",
    "    \"Servicio Nacional del Adulto Mayor\", \"SENAMA\",\n",
    "    \"Servicio Nacional del Consumidor\", \"SERNAC\",\n",
    "    \"Servicio Nacional del Patrimonio Cultural\", \"SNPC\",\n",
    "    \"Servicio Nacional Forestal y de Fauna Silvestre\", \"CONAF\",\n",
    "    \"Servicio Nacional de Pesca y Acuicultura\", \"SERNAPESCA\",\n",
    "    \"Servicio Nacional para la Prevención y Rehabilitación del Consumo de Drogas y Alcohol\", \"SENDA\",\n",
    "    \"Servicio Nacional de Turismo\", \"SERNATUR\",\n",
    "    \"Servicio Nacional de la Discapacidad\", \"SENADIS\",\n",
    "    \"Servicio Nacional de la Mujer y la Equidad de Género\", \"SERNAMEG\",\n",
    "    \"Superintendencia de Bancos e Instituciones Financieras\", \"SBIF\",\n",
    "    \"Superintendencia de Electricidad y Combustibles\", \"SEC\",\n",
    "    \"Superintendencia de Insolvencia y Reemprendimiento\", \"SUPERIR\",\n",
    "    \"Superintendencia de Pensiones\", \"SP\",\n",
    "    \"Superintendencia de Salud\", \"SIS\",\n",
    "    \"Superintendencia de Seguridad Social\", \"SUSESO\",\n",
    "    \"Superintendencia de Servicios Sanitarios\", \"SISS\",\n",
    "    \"Superintendencia del Medio Ambiente\", \"SMA\",\n",
    "    \"Subsecretaría de Economía y Empresas de Menor Tamaño\", \"SUBEM\",\n",
    "    \"Subsecretaría de Educación\", \"SUBEDUC\",\n",
    "    \"Subsecretaría de Energía\", \"SUBENERGIA\",\n",
    "    \"Subsecretaría de Hacienda\", \"SUBHACIENDA\",\n",
    "    \"Subsecretaría de Obras Públicas\", \"SUBOP\",\n",
    "    \"Subsecretaría de Pesca y Acuicultura\", \"SUBPESCA\",\n",
    "    \"Subsecretaría de Prevención del Delito\", \"SUBSEGPUB\",\n",
    "    \"Subsecretaría de Previsión Social\", \"SUBPREV\",\n",
    "    \"Subsecretaría de Relaciones Exteriores\", \"SUBREX\",\n",
    "    \"Subsecretaría de Telecomunicaciones\", \"SUBTEL\",\n",
    "    \"Subsecretaría de Transportes\", \"SUBTRANS\",\n",
    "    \"Subsecretaría General de Gobierno\", \"SUBGOB\",\n",
    "    \"Tribunal Constitucional\", \"TC\",\n",
    "    \"Tribunal de Defensa de la Libre Competencia\", \"TDLC\",\n",
    "    \"Tribunal Electoral Regional\", \"TER\",\n",
    "    \"Tribunal Oral en lo Penal\", \"TOP\",\n",
    "    \"Carabineros\",\n",
    "    \"Ejercito\",\n",
    "    \"Armada\",\n",
    "    \"Fuerza aérea\",\n",
    "    \"Embajada\",\n",
    "    \"Seremi\"\n",
    "]"
   ]
  },
  {
   "cell_type": "code",
   "execution_count": null,
   "id": "07261f83",
   "metadata": {},
   "outputs": [],
   "source": [
    "instituciones_educacion_superior = [\n",
    "    'Universidad',\n",
    "    'Universidad Academia de Humanismo Cristiano', 'UAHC', \n",
    "    'Universidad Adolfo Ibáñez', 'UAI', \n",
    "    'Universidad Adventista de Chile', 'UAC', \n",
    "    'Universidad Alberto Hurtado', 'UAH', \n",
    "    'Universidad Andrés Bello', 'UNAB', 'Universidad andres bello'\n",
    "    'Universidad Arturo Prat', 'UNAP', \n",
    "    'Universidad Austral de Chile', 'UACh', \n",
    "    'Universidad Autónoma de Chile', 'UA', 'Universidad A'\n",
    "    'Universidad Bernardo O’Higgins', 'UBO', \n",
    "    'Universidad Bolivariana', 'UB', \n",
    "    'Universidad Católica Cardenal Raúl Silva Henríquez', 'UCSH', \n",
    "    'Universidad Católica de la Santísima Concepción', 'UCSC', \n",
    "    'Universidad Católica de la VI Región', 'UCV', \n",
    "    'Universidad Católica del Maule', 'UCM', \n",
    "    'Universidad Católica del Norte', 'UCN', \n",
    "    'Pontificia Universidad Católica de Chile', 'PUC', 'UC', 'Universidad Católica',\n",
    "    'PUCV',\n",
    "    'Universidad Central de Chile', 'UCEN', 'Universidad Central',\n",
    "    'Universidad Chileno-Británica de Cultura', 'UCBC', \n",
    "    'Universidad de Aconcagua', 'UDA', \n",
    "    'Universidad de Antofagasta', 'UA', \n",
    "    'Universidad de Artes, Ciencias y Comunicación', 'UNIACC', \n",
    "    'Universidad de Atacama', 'UDA', \n",
    "    'Universidad de Chile', 'UCH', \n",
    "    'Universidad de Ciencias de la Informática', 'UCINF', \n",
    "    'Universidad de Concepción', 'UdeC', \n",
    "    'Universidad de Concepción del Uruguay', 'UCU', \n",
    "    'Universidad de Los Andes', 'UANDES', \n",
    "    'Universidad de Los Lagos', 'ULAGOS', \n",
    "    'Universidad de Magallanes', 'UMAG', \n",
    "    'Universidad de Playa Ancha de Ciencias de la Educación', 'UPLA', \n",
    "    'Universidad de Santiago de Chile', 'USACH', \n",
    "    'Universidad de Talca', 'UTAL', \n",
    "    'Universidad de Tarapacá', 'UTA', \n",
    "    'Universidad de Valparaíso', 'UV', \n",
    "    'Universidad del Bío-Bío', 'UBB', \n",
    "    'Universidad del Desarrollo', 'UDD', \n",
    "    'Universidad del Pacífico', 'UDP', \n",
    "    'Universidad Diego Portales', 'UDP', \n",
    "    'Universidad Finis Terrae', 'UFT', \n",
    "    'Universidad Gabriela Mistral', 'UGM', \n",
    "    'Universidad Iberoamericana de Ciencias y Tecnología', 'UICT', \n",
    "    'Universidad La República', 'ULARE', \n",
    "    'Universidad Mayor', 'UMAYOR', \n",
    "    'Universidad Metropolitana de Ciencias de la Educación', 'UMCE', \n",
    "    'Universidad Miguel de Cervantes', 'UMC', \n",
    "    'Universidad Nacional Andrés Bello', 'UNAB',\n",
    "    'Universidad Tecnológica de Chile Inacap', 'INACAP', \n",
    "    'Universidad Técnica Federico Santa María', 'USM', \n",
    "    'Universidad Viña del Mar', 'UVM',\n",
    "    'AIEP',     \n",
    "    'CFT de Tarapacá',     \n",
    "    'CFT de Valparaíso',     \n",
    "    'CFT de la Región de Coquimbo',     \n",
    "    'CFT de la Región del Libertador General Bernardo O’Higgins', \n",
    "    'CFT Lota-Arauco',     \n",
    "    'CFT San Agustín',     \n",
    "    'CFT Santo Tomás',     \n",
    "    'CFT Teodoro Wickel',     \n",
    "    'CFT UV',     \n",
    "    'CFT de Los Lagos',     \n",
    "    'CFT de la Región de Aysén',     \n",
    "    'CFT de la Región de Magallanes y Antártica Chilena',     \n",
    "    'CFT estatal de La Araucanía',     \n",
    "    'CFT estatal de Los Ríos',     \n",
    "    'CFT estatal de O’Higgins',     \n",
    "    'CFT estatal de Tarapacá',     \n",
    "    'CFT estatal de la Región de Valparaíso',     \n",
    "    'CFT estatal de la Región de Coquimbo',     \n",
    "    'CFT estatal de la Región del Maule',     \n",
    "    'CFT estatal de la Región de Los Lagos',     \n",
    "    'CFT estatal de la Región de Aysén',     \n",
    "    'CFT estatal de la Región de Magallanes y de la Antártica Chilena',     \n",
    "    'CFT de la Universidad de Santiago de Chile', 'CFT USACH',     \n",
    "    'CFT de la Universidad Técnica Federico Santa María', \n",
    "    'CFT USM'\n",
    "]"
   ]
  },
  {
   "cell_type": "code",
   "execution_count": null,
   "id": "917ae796",
   "metadata": {},
   "outputs": [],
   "source": [
    "mineras = [\n",
    "    'minera',\n",
    "    'mineria',\n",
    "    'minero'\n",
    "    'minerals', 'antofagasta minerals',\n",
    "    'bhp',\n",
    "    'anglo american'\n",
    "]"
   ]
  },
  {
   "cell_type": "code",
   "execution_count": null,
   "id": "939e1d94",
   "metadata": {},
   "outputs": [],
   "source": [
    "'''\n",
    "def contains_superior_education_institution(string):\n",
    "    # create a regular expression pattern that matches whole words in the list, ignoring case and accents\n",
    "    pattern = r\"\\b(\" + \"|\".join([re.escape(s) for s in instituciones_educacion_superior]) + r\")\\b\"\n",
    "    return re.search(pattern, string, flags=re.IGNORECASE | re.UNICODE) is not None\n",
    "\n",
    "# apply the function to the 'institucion_procesada' column and assign 2 to 'categoria_ocupacion' if a match is found\n",
    "df_contacts['categoria_ocupacion'] = df_contacts['institucion_procesada'].apply(lambda x: 2 if (type(x) == str and contains_superior_education_institution(\" \" + x.lower() + \" \")) else df_contacts['categoria_ocupacion'][df_contacts['institucion_procesada'] == x].iloc[0] if type(x) == str else x)\n",
    "'''"
   ]
  },
  {
   "cell_type": "code",
   "execution_count": null,
   "id": "5a039e27",
   "metadata": {},
   "outputs": [],
   "source": [
    "df_contacts.categoria_ocupacion.value_counts()"
   ]
  },
  {
   "cell_type": "code",
   "execution_count": null,
   "id": "afb1070e",
   "metadata": {},
   "outputs": [],
   "source": [
    "def contains_public_institution(string):\n",
    "    # create a regular expression pattern that matches whole words in the list, ignoring case and accents\n",
    "    pattern = r\"\\b(\" + \"|\".join([re.escape(s) for s in instituciones_publicas]) + r\")\\b\"\n",
    "    return re.search(pattern, string, flags=re.IGNORECASE | re.UNICODE) is not None\n",
    "\n",
    "# apply the function to the 'institucion_procesada' column and assign 2 to 'categoria_ocupacion' if a match is found\n",
    "df_contacts['categoria_ocupacion'] = df_contacts['institucion_procesada'].apply(lambda x: 1 if (type(x) == str and contains_public_institution(\" \" + x.lower() + \" \")) else df_contacts['categoria_ocupacion'][df_contacts['institucion_procesada'] == x].iloc[0] if type(x) == str else x)"
   ]
  },
  {
   "cell_type": "code",
   "execution_count": null,
   "id": "eb012c5e",
   "metadata": {},
   "outputs": [],
   "source": [
    "df_contacts.categoria_ocupacion.value_counts()"
   ]
  },
  {
   "cell_type": "code",
   "execution_count": null,
   "id": "2b85043a",
   "metadata": {},
   "outputs": [],
   "source": [
    "def contains_minera(string):\n",
    "    # create a regular expression pattern that matches whole words in the list, ignoring case and accents\n",
    "    pattern = r\"\\b(\" + \"|\".join([re.escape(s) for s in mineras]) + r\")\\b\"\n",
    "    return re.search(pattern, string, flags=re.IGNORECASE | re.UNICODE) is not None\n",
    "\n",
    "# apply the function to the 'institucion_procesada' column and assign 2 to 'categoria_ocupacion' if a match is found\n",
    "df_contacts['categoria_ocupacion'] = df_contacts['institucion_procesada'].apply(lambda x: 3 if (type(x) == str and contains_minera(\" \" + x.lower() + \" \")) else df_contacts['categoria_ocupacion'][df_contacts['institucion_procesada'] == x].iloc[0] if type(x) == str else x)"
   ]
  },
  {
   "cell_type": "code",
   "execution_count": null,
   "id": "78e582d5",
   "metadata": {},
   "outputs": [],
   "source": [
    "def update_category(row):\n",
    "    if \"@bhpbilliton.com\" in row[\"email\"]:\n",
    "        return 3\n",
    "    else:\n",
    "        return row[\"categoria_ocupacion\"]\n",
    "\n",
    "df_contacts[\"categoria_ocupacion\"] = df_contacts.apply(update_category, axis=1)"
   ]
  },
  {
   "cell_type": "code",
   "execution_count": null,
   "id": "5651fc4f",
   "metadata": {},
   "outputs": [],
   "source": [
    "df_contacts.categoria_ocupacion.value_counts()"
   ]
  },
  {
   "cell_type": "code",
   "execution_count": null,
   "id": "209fa4ad",
   "metadata": {},
   "outputs": [],
   "source": [
    "len(df_contacts)"
   ]
  },
  {
   "cell_type": "markdown",
   "id": "83e00a55",
   "metadata": {},
   "source": [
    "### Categorizando ocupación: Estudiantes"
   ]
  },
  {
   "cell_type": "code",
   "execution_count": null,
   "id": "e0e8ff4d",
   "metadata": {},
   "outputs": [],
   "source": [
    "estudiantes = [\n",
    "    'estudiante',\n",
    "    'alumno'\n",
    "]\n",
    "\n",
    "def contains_estudiante(string):\n",
    "    # create a regular expression pattern that matches whole words in the list, ignoring case and accents\n",
    "    pattern = r\"\\b(\" + \"|\".join([re.escape(s) for s in estudiantes]) + r\")\\b\"\n",
    "    return re.search(pattern, string, flags=re.IGNORECASE | re.UNICODE) is not None\n",
    "\n",
    "# apply the function to the 'institucion_procesada' column and assign 2 to 'categoria_ocupacion' if a match is found\n",
    "df_contacts['categoria_ocupacion'] = df_contacts['profesion_procesada_corregida'].apply(lambda x: 11 if (type(x) == str and contains_estudiante(\" \" + x.lower() + \" \")) else df_contacts['categoria_ocupacion'][df_contacts['profesion_procesada_corregida'] == x].iloc[0] if type(x) == str else x)"
   ]
  },
  {
   "cell_type": "markdown",
   "id": "62dea448",
   "metadata": {},
   "source": [
    "### Last try Ing. Comercial, Profesor y Cientista Político"
   ]
  },
  {
   "cell_type": "code",
   "execution_count": null,
   "id": "9841edf9",
   "metadata": {},
   "outputs": [],
   "source": [
    "def update_category_prof(row):\n",
    "    if pd.isna(row[\"profesion_procesada_corregida\"]) or row[\"profesion_procesada_corregida\"] == \"\":\n",
    "        return row[\"categoria_ocupacion\"]\n",
    "    elif \"Profesor\" in row[\"profesion_procesada_corregida\"]:\n",
    "        return 2\n",
    "    else:\n",
    "        return row[\"categoria_ocupacion\"]\n",
    "\n",
    "df_contacts[\"categoria_ocupacion\"] = df_contacts.apply(update_category_prof, axis=1)"
   ]
  },
  {
   "cell_type": "code",
   "execution_count": null,
   "id": "40d9b66e",
   "metadata": {},
   "outputs": [],
   "source": [
    "def update_category_ingeco(row):\n",
    "    if pd.isna(row[\"profesion_procesada_corregida\"]) or row[\"profesion_procesada_corregida\"] == \"\":\n",
    "        return row[\"categoria_ocupacion\"]\n",
    "    elif \"Ingeniero comercial\" in row[\"profesion_procesada_corregida\"]:\n",
    "        return 4\n",
    "    else:\n",
    "        return row[\"categoria_ocupacion\"]\n",
    "\n",
    "df_contacts[\"categoria_ocupacion\"] = df_contacts.apply(update_category_ingeco, axis=1)"
   ]
  },
  {
   "cell_type": "code",
   "execution_count": null,
   "id": "dc9bc123",
   "metadata": {},
   "outputs": [],
   "source": [
    "def update_category_ingeco(row):\n",
    "    if pd.isna(row[\"profesion_procesada_corregida\"]) or row[\"profesion_procesada_corregida\"] == \"\":\n",
    "        return row[\"categoria_ocupacion\"]\n",
    "    elif \"Cientista político\" in row[\"profesion_procesada_corregida\"]:\n",
    "        return 8\n",
    "    else:\n",
    "        return row[\"categoria_ocupacion\"]\n",
    "\n",
    "df_contacts[\"categoria_ocupacion\"] = df_contacts.apply(update_category_ingeco, axis=1)"
   ]
  },
  {
   "cell_type": "code",
   "execution_count": null,
   "id": "eade7099",
   "metadata": {},
   "outputs": [],
   "source": [
    "df_contacts['categoria_ocupacion'] = df_contacts['categoria_ocupacion'].fillna(0)"
   ]
  },
  {
   "cell_type": "code",
   "execution_count": null,
   "id": "ec1617a9",
   "metadata": {
    "scrolled": false
   },
   "outputs": [],
   "source": [
    "#df_contacts.to_excel('final_versions/df_contacts_final_testing1004.xlsx')"
   ]
  },
  {
   "cell_type": "code",
   "execution_count": null,
   "id": "333cb39a",
   "metadata": {
    "scrolled": false
   },
   "outputs": [],
   "source": [
    "df_contacts.categoria_ocupacion.value_counts()"
   ]
  },
  {
   "cell_type": "code",
   "execution_count": null,
   "id": "ceb4c201",
   "metadata": {
    "scrolled": false
   },
   "outputs": [],
   "source": [
    "df_contacts.head()"
   ]
  },
  {
   "cell_type": "markdown",
   "id": "6f8ab193",
   "metadata": {},
   "source": [
    "### Cambiando valores de género"
   ]
  },
  {
   "cell_type": "code",
   "execution_count": null,
   "id": "fc4e74e1",
   "metadata": {},
   "outputs": [],
   "source": [
    "# replace values in the 'genero' column\n",
    "df_contacts['genero'] = df_contacts['genero'].replace({'M': 'Masculino',\n",
    "                                                       'F': 'Femenino',\n",
    "                                                       None: 'N/E',\n",
    "                                                       '': 'N/E'})"
   ]
  },
  {
   "cell_type": "markdown",
   "id": "94adeaf8",
   "metadata": {},
   "source": [
    "### Limpiando columnas y arreglando nombres"
   ]
  },
  {
   "cell_type": "code",
   "execution_count": null,
   "id": "acbbe7b6",
   "metadata": {},
   "outputs": [],
   "source": [
    "cols_keep_complete = [\n",
    "    'email',\n",
    "    'nombre',\n",
    "    'apellido',\n",
    "    'institucion',\n",
    "    'profesion',\n",
    "    'tel',\n",
    "    'c1',\n",
    "    'c2',\n",
    "    'c3',\n",
    "    'genero',\n",
    "    'member_rating',\n",
    "    'cc',\n",
    "    'region',\n",
    "    'institucion_procesada',\n",
    "    'profesion_procesada_corregida',\n",
    "    'new_latitude',\n",
    "    'new_longitude',\n",
    "    'address',\n",
    "    'comuna',\n",
    "    'fecha_nacimiento_1',\n",
    "    'categoria_ocupacion'\n",
    "]"
   ]
  },
  {
   "cell_type": "code",
   "execution_count": null,
   "id": "c09701fd",
   "metadata": {},
   "outputs": [],
   "source": [
    "df_contacts_complete = df_contacts[cols_keep_complete]"
   ]
  },
  {
   "cell_type": "code",
   "execution_count": null,
   "id": "723d9398",
   "metadata": {},
   "outputs": [],
   "source": [
    "df_contacts_complete = df_contacts_complete.rename(columns = {\n",
    "    'email': 'Email', \n",
    "    'nombre': 'Nombre', \n",
    "    'apellido': 'Apellido',\n",
    "    'fecha_nacimiento_1': 'Fecha de Nacimiento',\n",
    "    'categoria_ocupacion': 'Área de Ocupación',\n",
    "    'tel': 'Teléfono',\n",
    "    'c1': 'Uso Interno',\n",
    "    'genero': 'Género',\n",
    "    'comuna': 'Comuna',\n",
    "    'new_latitude': 'Latitud',\n",
    "    'new_longitude': 'Longitud',\n",
    "    'Address': 'Dirección',\n",
    "    'institucion': 'Institución',\n",
    "    'institucion_procesada': 'Institución Procesada',\n",
    "    'profesion': 'Profesión',\n",
    "    'profesión_procesada_corregida': 'Profesión Procesada'\n",
    "    }\n",
    ")"
   ]
  },
  {
   "cell_type": "code",
   "execution_count": null,
   "id": "e00d914b",
   "metadata": {},
   "outputs": [],
   "source": [
    "df_contacts_complete = df_contacts_complete.reindex(columns = [\n",
    "    'Email',\n",
    "    'Nombre',\n",
    "    'Apellido',\n",
    "    'Fecha de Nacimiento',\n",
    "    'Área de Ocupación',\n",
    "    'Teléfono',\n",
    "    'Uso Interno',\n",
    "    'Género',\n",
    "    'Comuna',\n",
    "    'Dirección',\n",
    "    'Latitud',\n",
    "    'Longitud',\n",
    "    'Institución',\n",
    "    'Institución Procesada',\n",
    "    'Profesión',\n",
    "    'Profesión Procesada',\n",
    "    'cc',\n",
    "    'region',\n",
    "    'c2',\n",
    "    'c3',\n",
    "    'member_rating'\n",
    "])"
   ]
  },
  {
   "cell_type": "code",
   "execution_count": null,
   "id": "a9e9a35a",
   "metadata": {
    "scrolled": true
   },
   "outputs": [],
   "source": [
    "df_contacts_complete = df_contacts_complete.reset_index(drop=True)"
   ]
  },
  {
   "cell_type": "code",
   "execution_count": null,
   "id": "a6f68b4c",
   "metadata": {},
   "outputs": [],
   "source": [
    "cols_keep_simplified = [\n",
    "    'Email',\n",
    "    'Nombre',\n",
    "    'Apellido',\n",
    "    'Fecha de Nacimiento',\n",
    "    'Área de Ocupación',\n",
    "    'Teléfono',\n",
    "    'Uso Interno',\n",
    "    'Género',\n",
    "    'Comuna',\n",
    "]"
   ]
  },
  {
   "cell_type": "code",
   "execution_count": null,
   "id": "3eed3ed1",
   "metadata": {},
   "outputs": [],
   "source": [
    "df_contacts_simplified = df_contacts_complete[cols_keep_simplified]\n",
    "df_contacts_simplified = df_contacts_simplified.reset_index(drop=True)"
   ]
  },
  {
   "cell_type": "code",
   "execution_count": null,
   "id": "dd9ac334",
   "metadata": {},
   "outputs": [],
   "source": [
    "df_contacts_complete.to_excel('final_versions/VF/CEP_contactos_completo.xlsx')\n",
    "df_contacts_simplified.to_excel('final_versions/VF/CEP_contactos_simplificado.xlsx')"
   ]
  }
 ],
 "metadata": {
  "kernelspec": {
   "display_name": "Python 3",
   "language": "python",
   "name": "python3"
  },
  "language_info": {
   "codemirror_mode": {
    "name": "ipython",
    "version": 3
   },
   "file_extension": ".py",
   "mimetype": "text/x-python",
   "name": "python",
   "nbconvert_exporter": "python",
   "pygments_lexer": "ipython3",
   "version": "3.8.8"
  }
 },
 "nbformat": 4,
 "nbformat_minor": 5
}
