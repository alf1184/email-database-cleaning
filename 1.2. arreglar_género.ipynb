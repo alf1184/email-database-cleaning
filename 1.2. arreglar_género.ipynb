{
 "cells": [
  {
   "cell_type": "code",
   "execution_count": null,
   "id": "f78f3222",
   "metadata": {},
   "outputs": [],
   "source": [
    "import pandas as pd\n",
    "import numpy as np\n",
    "import os"
   ]
  },
  {
   "cell_type": "code",
   "execution_count": null,
   "id": "02f2afdd",
   "metadata": {},
   "outputs": [],
   "source": [
    "# Estableciendo directorio\n",
    "tar = os.chdir(r\"undisclosed\")\n",
    "\n",
    "# Leyendo base\n",
    "df_contacts = pd.read_csv(\"final_versions/df_contacts_extended_genderized.csv\")"
   ]
  },
  {
   "cell_type": "code",
   "execution_count": null,
   "id": "e59c4603",
   "metadata": {
    "scrolled": false
   },
   "outputs": [],
   "source": [
    "df_contacts.head()"
   ]
  },
  {
   "cell_type": "code",
   "execution_count": null,
   "id": "629a86ec",
   "metadata": {
    "scrolled": true
   },
   "outputs": [],
   "source": [
    "# Revisando forma de datos\n",
    "df_contacts.genero_determinado_gender_guesser.value_counts()"
   ]
  },
  {
   "cell_type": "code",
   "execution_count": null,
   "id": "62731289",
   "metadata": {
    "scrolled": true
   },
   "outputs": [],
   "source": [
    "# Revisando forma de datos\n",
    "df_contacts.genero.value_counts()"
   ]
  },
  {
   "cell_type": "code",
   "execution_count": null,
   "id": "e4b626f9",
   "metadata": {},
   "outputs": [],
   "source": [
    "# Modificando\n",
    "df_contacts['genero'] = df_contacts['genero'].replace(['m', 'Masculino'], 'M')\n",
    "\n",
    "df_contacts['genero_determinado_gender_guesser'] = df_contacts['genero_determinado_gender_guesser'].replace(['male', 'mostly_male'], 'M')\n",
    "df_contacts['genero_determinado_gender_guesser'] = df_contacts['genero_determinado_gender_guesser'].replace(['female', 'mostly_female'], 'F')\n",
    "df_contacts['genero_determinado_gender_guesser'] = df_contacts['genero_determinado_gender_guesser'].replace(['andy'], 'unknown')"
   ]
  },
  {
   "cell_type": "code",
   "execution_count": null,
   "id": "260f5f20",
   "metadata": {},
   "outputs": [],
   "source": [
    "# Replace empty cells in 'genero' with NaN\n",
    "df_contacts['genero'] = df_contacts['genero'].replace('', np.nan)\n",
    "\n",
    "# Fill NaN values in 'genero' with values from 'genero_determinado_gender_guesser' if not 'unknown'\n",
    "df_contacts.loc[(df_contacts['genero'].isna()) & (df_contacts['genero_determinado_gender_guesser'] != 'unknown'), 'genero'] = df_contacts['genero_determinado_gender_guesser']\n",
    "\n",
    "# Replace remaining NaN values in 'genero' with empty strings\n",
    "df_contacts['genero'] = df_contacts['genero'].fillna('')"
   ]
  },
  {
   "cell_type": "code",
   "execution_count": null,
   "id": "2df4fa27",
   "metadata": {
    "scrolled": true
   },
   "outputs": [],
   "source": [
    "df_contacts.to_excel('final_versions/df_contacts_extended_genderized_arranged.xlsx')\n",
    "df_contacts.to_csv('final_versions/df_contacts_extended_genderized_arranged.csv')"
   ]
  },
  {
   "cell_type": "code",
   "execution_count": null,
   "id": "af7794ca",
   "metadata": {},
   "outputs": [],
   "source": [
    "df_contacts.tel"
   ]
  }
 ],
 "metadata": {
  "kernelspec": {
   "display_name": "Python 3",
   "language": "python",
   "name": "python3"
  },
  "language_info": {
   "codemirror_mode": {
    "name": "ipython",
    "version": 3
   },
   "file_extension": ".py",
   "mimetype": "text/x-python",
   "name": "python",
   "nbconvert_exporter": "python",
   "pygments_lexer": "ipython3",
   "version": "3.8.8"
  }
 },
 "nbformat": 4,
 "nbformat_minor": 5
}
