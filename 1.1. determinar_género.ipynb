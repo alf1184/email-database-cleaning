{
 "cells": [
  {
   "cell_type": "code",
   "execution_count": null,
   "id": "dcd61d4c",
   "metadata": {
    "scrolled": true
   },
   "outputs": [],
   "source": [
    "import pandas as pd\n",
    "import os\n",
    "import gender_guesser.detector as gender\n",
    "import naiveBayesClassifier"
   ]
  },
  {
   "cell_type": "code",
   "execution_count": null,
   "id": "87f044e7",
   "metadata": {},
   "outputs": [],
   "source": [
    "# Estableciendo directorio\n",
    "tar = os.chdir(r\"undisclosed\")\n",
    "\n",
    "# Leyendo base\n",
    "df_contacts = pd.read_csv(\"undisclosed\")"
   ]
  },
  {
   "cell_type": "code",
   "execution_count": null,
   "id": "a6c14c55",
   "metadata": {},
   "outputs": [],
   "source": [
    "type(df_contacts.tel.iloc[0])"
   ]
  },
  {
   "cell_type": "code",
   "execution_count": null,
   "id": "68357434",
   "metadata": {},
   "outputs": [],
   "source": [
    "gd = gender.Detector()\n",
    "df_contacts['genero_determinado_gender_guesser'] = df_contacts['nombre'].map(lambda x: gd.get_gender(x))"
   ]
  },
  {
   "cell_type": "code",
   "execution_count": null,
   "id": "85560632",
   "metadata": {},
   "outputs": [],
   "source": [
    "df_contacts"
   ]
  },
  {
   "cell_type": "code",
   "execution_count": null,
   "id": "b89da59b",
   "metadata": {},
   "outputs": [],
   "source": [
    "#from genderizer.genderizer import Genderizer\n",
    "#df_contacts['genero_determinado_genderizer'] = df_contacts['genderizer'].apply(lambda x: Genderizer.detect(firstName=x, lang='es'))"
   ]
  },
  {
   "cell_type": "code",
   "execution_count": null,
   "id": "abf8bfd9",
   "metadata": {
    "scrolled": true
   },
   "outputs": [],
   "source": [
    "df_contacts.to_excel('final_versions/df_contacts_extended_genderized.xlsx')\n",
    "df_contacts.to_csv('final_versions/df_contacts_extended_genderized.csv')"
   ]
  }
 ],
 "metadata": {
  "kernelspec": {
   "display_name": "Python 3",
   "language": "python",
   "name": "python3"
  },
  "language_info": {
   "codemirror_mode": {
    "name": "ipython",
    "version": 3
   },
   "file_extension": ".py",
   "mimetype": "text/x-python",
   "name": "python",
   "nbconvert_exporter": "python",
   "pygments_lexer": "ipython3",
   "version": "3.8.8"
  }
 },
 "nbformat": 4,
 "nbformat_minor": 5
}
