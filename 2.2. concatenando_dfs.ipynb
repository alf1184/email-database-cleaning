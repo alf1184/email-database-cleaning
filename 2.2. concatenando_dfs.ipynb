{
 "cells": [
  {
   "cell_type": "code",
   "execution_count": null,
   "id": "dd253d7d",
   "metadata": {},
   "outputs": [],
   "source": [
    "import pandas as pd\n",
    "import os"
   ]
  },
  {
   "cell_type": "code",
   "execution_count": null,
   "id": "b7fe0728",
   "metadata": {},
   "outputs": [],
   "source": [
    "# Estableciendo directorio\n",
    "tar = os.chdir(r\"undisclosed\")\n",
    "\n",
    "df_contacts_1 = pd.read_csv(\"df_contacts_located_1.csv\")\n",
    "df_contacts_2 = pd.read_csv(\"df_contacts_located_2.csv\")\n",
    "df_contacts_3 = pd.read_csv(\"df_contacts_located_3.csv\")\n",
    "df_contacts_3 = pd.read_csv(\"df_contacts_located_4.csv\")"
   ]
  },
  {
   "cell_type": "code",
   "execution_count": null,
   "id": "61ec1a81",
   "metadata": {},
   "outputs": [],
   "source": [
    "df_contacts = pd.concat([df_contacts_1, df_contacts_2, df_contacts_3], ignore_index=True)"
   ]
  },
  {
   "cell_type": "code",
   "execution_count": null,
   "id": "546098b7",
   "metadata": {},
   "outputs": [],
   "source": [
    "df_contacts.to_csv('final_versions/df_contacts.csv')\n",
    "df_contacts.to_excel('final_versions/df_contacts.xlsx')"
   ]
  }
 ],
 "metadata": {
  "kernelspec": {
   "display_name": "Python 3",
   "language": "python",
   "name": "python3"
  },
  "language_info": {
   "codemirror_mode": {
    "name": "ipython",
    "version": 3
   },
   "file_extension": ".py",
   "mimetype": "text/x-python",
   "name": "python",
   "nbconvert_exporter": "python",
   "pygments_lexer": "ipython3",
   "version": "3.8.8"
  }
 },
 "nbformat": 4,
 "nbformat_minor": 5
}
