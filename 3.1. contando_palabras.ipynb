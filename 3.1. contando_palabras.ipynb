{
 "cells": [
  {
   "cell_type": "code",
   "execution_count": null,
   "id": "ec82c618",
   "metadata": {},
   "outputs": [],
   "source": [
    "import pandas as pd\n",
    "import os\n",
    "from collections import Counter"
   ]
  },
  {
   "cell_type": "code",
   "execution_count": null,
   "id": "8bbc8171",
   "metadata": {},
   "outputs": [],
   "source": [
    "# Estableciendo directorio\n",
    "tar = os.chdir(r\"undisclosed\")\n",
    "\n",
    "# Leyendo base\n",
    "df_contacts = pd.read_csv(\"final_versions/df_contacts_extended_genderized_arranged.csv\")"
   ]
  },
  {
   "cell_type": "code",
   "execution_count": null,
   "id": "7426c750",
   "metadata": {
    "scrolled": true
   },
   "outputs": [],
   "source": [
    "df_contacts.columns"
   ]
  },
  {
   "cell_type": "code",
   "execution_count": null,
   "id": "60c5a77c",
   "metadata": {},
   "outputs": [],
   "source": [
    "df_contacts.head()"
   ]
  },
  {
   "cell_type": "code",
   "execution_count": null,
   "id": "028f38fb",
   "metadata": {},
   "outputs": [],
   "source": [
    "def most_common_words(column, n):\n",
    "    words = []\n",
    "    for text in column:\n",
    "        if isinstance(text, str):\n",
    "            words.extend(text.split())\n",
    "    word_counts = Counter(words)\n",
    "    return word_counts.most_common(n)"
   ]
  },
  {
   "cell_type": "code",
   "execution_count": null,
   "id": "636d3592",
   "metadata": {},
   "outputs": [],
   "source": [
    "top_words = most_common_words([x for x in df_contacts.profesion_procesada_corregida if x], 100)\n",
    "print(top_words)"
   ]
  }
 ],
 "metadata": {
  "kernelspec": {
   "display_name": "Python 3",
   "language": "python",
   "name": "python3"
  },
  "language_info": {
   "codemirror_mode": {
    "name": "ipython",
    "version": 3
   },
   "file_extension": ".py",
   "mimetype": "text/x-python",
   "name": "python",
   "nbconvert_exporter": "python",
   "pygments_lexer": "ipython3",
   "version": "3.8.8"
  }
 },
 "nbformat": 4,
 "nbformat_minor": 5
}
