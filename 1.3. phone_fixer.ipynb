{
 "cells": [
  {
   "cell_type": "code",
   "execution_count": null,
   "id": "dd7e3327",
   "metadata": {},
   "outputs": [],
   "source": [
    "import numpy as np\n",
    "import pandas as pd\n",
    "import os"
   ]
  },
  {
   "cell_type": "code",
   "execution_count": null,
   "id": "e1ad2702",
   "metadata": {},
   "outputs": [],
   "source": [
    "# Estableciendo directorio\n",
    "tar = os.chdir(r\"undisclosed\")\n",
    "\n",
    "# Leyendo base\n",
    "df_contacts = pd.read_csv(\"final_versions/df_contacts.csv\")"
   ]
  },
  {
   "cell_type": "code",
   "execution_count": null,
   "id": "c5144bc9",
   "metadata": {},
   "outputs": [],
   "source": [
    "df_contacts.tel"
   ]
  },
  {
   "cell_type": "code",
   "execution_count": null,
   "id": "62b2c216",
   "metadata": {},
   "outputs": [],
   "source": [
    "type(df_contacts.tel[0])"
   ]
  },
  {
   "cell_type": "code",
   "execution_count": null,
   "id": "cffe2cd8",
   "metadata": {},
   "outputs": [],
   "source": [
    "# use str.endswith to identify rows ending with '.0' and not NaN\n",
    "mask = (~pd.isna(df_contacts['tel'])) & (df_contacts['tel'].str.endswith('.0'))\n",
    "\n",
    "# use str.slice to remove the final two characters from rows that meet the condition\n",
    "df_contacts.loc[mask, 'tel'] = df_contacts.loc[mask, 'tel'].str.slice(stop=-2)"
   ]
  },
  {
   "cell_type": "code",
   "execution_count": null,
   "id": "59387ab0",
   "metadata": {},
   "outputs": [],
   "source": [
    "# add '+' sign to rows starting with '569' and not NaN\n",
    "mask2 = (~pd.isna(df_contacts['tel'])) & (df_contacts['tel'].str.startswith('569'))\n",
    "df_contacts.loc[mask2, 'tel'] = '+' + df_contacts.loc[mask2, 'tel']"
   ]
  },
  {
   "cell_type": "code",
   "execution_count": null,
   "id": "38d5030a",
   "metadata": {
    "scrolled": false
   },
   "outputs": [],
   "source": [
    "df_contacts.tel"
   ]
  },
  {
   "cell_type": "code",
   "execution_count": null,
   "id": "397b7947",
   "metadata": {},
   "outputs": [],
   "source": [
    "df_contacts.to_csv('final_versions/df_contacts_tel_fixed.csv')\n",
    "df_contacts.to_excel('final_versions/df_contacts_tel_fixed.xlsx')"
   ]
  }
 ],
 "metadata": {
  "kernelspec": {
   "display_name": "Python 3",
   "language": "python",
   "name": "python3"
  },
  "language_info": {
   "codemirror_mode": {
    "name": "ipython",
    "version": 3
   },
   "file_extension": ".py",
   "mimetype": "text/x-python",
   "name": "python",
   "nbconvert_exporter": "python",
   "pygments_lexer": "ipython3",
   "version": "3.8.8"
  }
 },
 "nbformat": 4,
 "nbformat_minor": 5
}
