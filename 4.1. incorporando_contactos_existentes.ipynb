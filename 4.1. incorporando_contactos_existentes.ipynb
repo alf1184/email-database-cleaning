{
 "cells": [
  {
   "cell_type": "code",
   "execution_count": null,
   "id": "aea0009f",
   "metadata": {},
   "outputs": [],
   "source": [
    "import pandas as pd\n",
    "import os"
   ]
  },
  {
   "cell_type": "code",
   "execution_count": null,
   "id": "0cafcd83",
   "metadata": {},
   "outputs": [],
   "source": [
    "# Estableciendo directorio\n",
    "tar = os.chdir(r\"undisclosed\")\n",
    "\n",
    "# Leyendo base\n",
    "df_contacts_new = pd.read_csv(\"nueva_base/new_cep_database.csv\")"
   ]
  },
  {
   "cell_type": "code",
   "execution_count": null,
   "id": "fa389e6f",
   "metadata": {
    "scrolled": true
   },
   "outputs": [],
   "source": [
    "df_contacts_new.head()"
   ]
  },
  {
   "cell_type": "code",
   "execution_count": null,
   "id": "015126ba",
   "metadata": {
    "scrolled": true
   },
   "outputs": [],
   "source": [
    "# Consiguiendo una lista con nombres originales de columnas\n",
    "df_contacts_columns_original = list(df_contacts_new.columns.values)\n",
    "\n",
    "df_contacts_columns_new = [\n",
    "    'email',\n",
    "    'nombre',\n",
    "    'apellido',\n",
    "    'fecha_nacimiento',\n",
    "    'institucion',\n",
    "    'profesion',\n",
    "    'tel',\n",
    "    'universidad',\n",
    "    'carrera',\n",
    "    'c1',\n",
    "    'c2',\n",
    "    'c3',\n",
    "    'genero',\n",
    "    'confirm_time'\n",
    "]\n",
    "\n",
    "# Renombrando columnas\n",
    "dict_columns = dict(zip(df_contacts_columns_original, df_contacts_columns_new))\n",
    "df_contacts_new = df_contacts_new.rename(columns=dict_columns)\n",
    "\n",
    "df_contacts_new.head()"
   ]
  },
  {
   "cell_type": "code",
   "execution_count": null,
   "id": "dea1ca13",
   "metadata": {},
   "outputs": [],
   "source": [
    "# Poniendo todos los emails en minúscula\n",
    "df_contacts_new['email'] = df_contacts_new.email.str.lower()"
   ]
  },
  {
   "cell_type": "code",
   "execution_count": null,
   "id": "b4758078",
   "metadata": {},
   "outputs": [],
   "source": [
    "len(df_contacts_new)"
   ]
  },
  {
   "cell_type": "code",
   "execution_count": null,
   "id": "57be61ec",
   "metadata": {},
   "outputs": [],
   "source": [
    "df_contacts_new = df_contacts_new.drop_duplicates(subset=['email'])\n",
    "len(df_contacts_new)"
   ]
  },
  {
   "cell_type": "code",
   "execution_count": null,
   "id": "0060b69d",
   "metadata": {},
   "outputs": [],
   "source": [
    "# Leyendo base antigua\n",
    "df_contacts = pd.read_csv(\"final_versions/df_contacts_genderized_arranged.csv\")"
   ]
  },
  {
   "cell_type": "code",
   "execution_count": null,
   "id": "e6a0c717",
   "metadata": {},
   "outputs": [],
   "source": [
    "# Filter df_contacts based on ids in df_contacts_new\n",
    "df_contacts_in_old = df_contacts_new[df_contacts_new['email'].isin(df_contacts['email'])]\n",
    "df_contacts_not_in_old = df_contacts_new[~df_contacts_new['email'].isin(df_contacts['email'])]"
   ]
  },
  {
   "cell_type": "code",
   "execution_count": null,
   "id": "e626e1cb",
   "metadata": {},
   "outputs": [],
   "source": [
    "print(len(df_contacts_in_old))\n",
    "print(len(df_contacts_not_in_old))"
   ]
  },
  {
   "cell_type": "code",
   "execution_count": null,
   "id": "767d89fb",
   "metadata": {
    "scrolled": true
   },
   "outputs": [],
   "source": [
    "df_contacts_in_old = df_contacts_in_old.loc[:, ['email', 'c1']]\n",
    "df_contacts_in_old = df_contacts_in_old.rename(columns = {'c1': 'c4'})\n",
    "df_contacts_in_old.head()"
   ]
  },
  {
   "cell_type": "code",
   "execution_count": null,
   "id": "30ed0a46",
   "metadata": {},
   "outputs": [],
   "source": [
    "print(len(df_contacts))"
   ]
  },
  {
   "cell_type": "code",
   "execution_count": null,
   "id": "77664fbc",
   "metadata": {},
   "outputs": [],
   "source": [
    "df_contacts_with_c4 = pd.merge(df_contacts, df_contacts_in_old, on='email', how = 'left')\n",
    "print(len(df_contacts_with_c4))"
   ]
  },
  {
   "cell_type": "code",
   "execution_count": null,
   "id": "70e5d078",
   "metadata": {},
   "outputs": [],
   "source": []
  },
  {
   "cell_type": "code",
   "execution_count": null,
   "id": "052bbe8d",
   "metadata": {
    "scrolled": false
   },
   "outputs": [],
   "source": [
    "df_contacts_with_c4.to_excel('final_versions/df_contacts_with_c4.xlsx')\n",
    "df_contacts_with_c4.to_csv('final_versions/df_contacts_with_c4.csv')"
   ]
  },
  {
   "cell_type": "code",
   "execution_count": null,
   "id": "46d827d6",
   "metadata": {},
   "outputs": [],
   "source": [
    "df_contacts_not_in_old.to_csv('nueva_base/df_contacts_not_in_old.csv')"
   ]
  }
 ],
 "metadata": {
  "kernelspec": {
   "display_name": "Python 3",
   "language": "python",
   "name": "python3"
  },
  "language_info": {
   "codemirror_mode": {
    "name": "ipython",
    "version": 3
   },
   "file_extension": ".py",
   "mimetype": "text/x-python",
   "name": "python",
   "nbconvert_exporter": "python",
   "pygments_lexer": "ipython3",
   "version": "3.8.8"
  }
 },
 "nbformat": 4,
 "nbformat_minor": 5
}
