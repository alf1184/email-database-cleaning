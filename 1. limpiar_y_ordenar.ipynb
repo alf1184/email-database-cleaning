{
 "cells": [
  {
   "cell_type": "code",
   "execution_count": null,
   "id": "61c53218",
   "metadata": {},
   "outputs": [],
   "source": [
    "import pandas as pd\n",
    "import numpy as np\n",
    "import os\n",
    "import re\n",
    "from datetime import datetime\n",
    "from spellchecker import SpellChecker\n",
    "from typing import List"
   ]
  },
  {
   "cell_type": "code",
   "execution_count": null,
   "id": "f242fd9b",
   "metadata": {},
   "outputs": [],
   "source": [
    "# Estableciendo directorio\n",
    "tar = os.chdir(r\"undisclosed\")\n",
    "\n",
    "# Leyendo base\n",
    "df_contacts = pd.read_csv(\"undisclosed\")\n",
    "\n",
    "# Seleccionando sample\n",
    "#df_contacts = df_contacts.sample(n = 2000)"
   ]
  },
  {
   "cell_type": "code",
   "execution_count": null,
   "id": "d9f91c0a",
   "metadata": {},
   "outputs": [],
   "source": [
    "### Cambiando nombres a columnas\n",
    "\n",
    "# Consiguiendo una lista con nombres originales de columnas\n",
    "df_contacts_columns_original = list(df_contacts.columns.values)\n",
    "\n",
    "# Creando una lista con nuevos nombres de columnas\n",
    "\n",
    "df_contacts_columns_new = [\n",
    "    'email',\n",
    "    'nombre',\n",
    "    'apellido',\n",
    "    'fecha_nacimiento',\n",
    "    'institucion',\n",
    "    'profesion',\n",
    "    'tel',\n",
    "    'universidad',\n",
    "    'carrera',\n",
    "    'c1',\n",
    "    'c2',\n",
    "    'c3',\n",
    "    'genero',\n",
    "    'email_alternativo',\n",
    "    'member_rating',\n",
    "    'optin_time',\n",
    "    'optin_ip',\n",
    "    'confirm_time',\n",
    "    'confirm_ip',\n",
    "    'latitude',\n",
    "    'longitude',\n",
    "    'gmtoff',\n",
    "    'dstoff',\n",
    "    'timezone',\n",
    "    'cc',\n",
    "    'region',\n",
    "    'last_changed',\n",
    "    'leid',\n",
    "    'euid',\n",
    "    'notes',\n",
    "    'tags'\n",
    "]\n",
    "\n",
    "\n",
    "# Renombrando columnas\n",
    "dict_columns = dict(zip(df_contacts_columns_original, df_contacts_columns_new))\n",
    "df_contacts = df_contacts.rename(columns=dict_columns)\n",
    "\n",
    "df_contacts.head()"
   ]
  },
  {
   "cell_type": "markdown",
   "id": "8e0e3f85",
   "metadata": {},
   "source": [
    "### Revisando NAs y data types."
   ]
  },
  {
   "cell_type": "code",
   "execution_count": null,
   "id": "45dd14ca",
   "metadata": {},
   "outputs": [],
   "source": [
    "data = []\n",
    "\n",
    "for column in df_contacts.columns:\n",
    "    row = [\n",
    "        f\"{column}\",\n",
    "        round(1 - (df_contacts[column].isna().sum()/len(df_contacts)), ndigits = 2),\n",
    "        df_contacts[column].dtype,\n",
    "        type(df_contacts[column].iloc[0])\n",
    "    ]\n",
    "    data.append(row)\n",
    "\n",
    "col_header = [\n",
    "    'columna', \n",
    "    'porcentaje_respuesta', \n",
    "    'data_type',\n",
    "    'data_type2'\n",
    "]\n",
    "    \n",
    "tabla_descriptiva = pd.DataFrame(data, columns = col_header) \n",
    "tabla_descriptiva = tabla_descriptiva.sort_values(by = 'porcentaje_respuesta', ascending = False).reset_index(drop = True)\n",
    "tabla_descriptiva"
   ]
  },
  {
   "cell_type": "code",
   "execution_count": null,
   "id": "234fa9bd",
   "metadata": {},
   "outputs": [],
   "source": [
    "### Limpiando y ordenando"
   ]
  },
  {
   "cell_type": "code",
   "execution_count": null,
   "id": "df8a2547",
   "metadata": {},
   "outputs": [],
   "source": [
    "# Convirtiendo formato fecha nacimiento\n",
    "df_contacts['fecha_nacimiento'] = pd.to_datetime(df_contacts['fecha_nacimiento'], \n",
    "                                                 format = '%d/%m/%Y', \n",
    "                                                 errors = 'coerce'\n",
    "                                                )\n",
    "\n",
    "# Eliminando hora\n",
    "df_contacts['fecha_nacimiento_date'] = df_contacts.fecha_nacimiento.dt.date\n",
    "# Creando año de nacimiento\n",
    "df_contacts['anyo_nacimiento'] = df_contacts.fecha_nacimiento.dt.year\n",
    "df_contacts['fecha_nacimiento'] = df_contacts['fecha_nacimiento_date']\n",
    "df_contacts = df_contacts.drop(['fecha_nacimiento_date'], axis = 1)"
   ]
  },
  {
   "cell_type": "code",
   "execution_count": null,
   "id": "5b167f8c",
   "metadata": {},
   "outputs": [],
   "source": [
    "# Poniendo mayúsculas en nombres y apellidos\n",
    "for column in ['nombre', 'apellido']:\n",
    "    df_contacts[column] = df_contacts[column].str.title()\n",
    "\n",
    "# Poniendo todos los emails en minúscula\n",
    "df_contacts['email'] = df_contacts.email.str.lower()\n",
    "\n",
    "# Cambiando columnas de texto a minúscula para facilitar modificación\n",
    "for column in ['profesion', 'institucion']:\n",
    "    df_contacts[column] = df_contacts[column].str.lower()\n",
    "\n",
    "# Cambiando códigos a mayúscula\n",
    "for column in ['cc', 'region']:\n",
    "    df_contacts[column] = df_contacts[column].str.upper()"
   ]
  },
  {
   "cell_type": "code",
   "execution_count": null,
   "id": "3aec6130",
   "metadata": {},
   "outputs": [],
   "source": [
    "# Limpiando teléfonos\n",
    "\n",
    "# Remove any character that is not a '+' or digit from each string\n",
    "df_contacts[\"tel\"] = df_contacts[\"tel\"].str.replace(r\"[^\\d+]\", \"\", regex=True)\n",
    "\n",
    "# If a cell contains 9 characters and the first character is '9', add '+56' to the beginning\n",
    "df_contacts.loc[(df_contacts[\"tel\"].str.len() == 9) & (df_contacts[\"tel\"].str.startswith(\"9\")), \"tel\"] = \"+56\" + df_contacts[\"tel\"]\n",
    "\n",
    "# If a cell contains 8 digits and no other characters, add '+569' to the beginning\n",
    "df_contacts.loc[(df_contacts[\"tel\"].str.len() == 8) & (df_contacts[\"tel\"].str.isnumeric()), \"tel\"] = \"+569\" + df_contacts[\"tel\"]\n",
    "\n",
    "# If a cell contains 11 characters and the first three characters are '569', add '+' to the beginning\n",
    "df_contacts.loc[(df_contacts[\"tel\"].str.len() == 11) & (df_contacts[\"tel\"].str.startswith(\"569\")), \"tel\"] = \"+\" + df_contacts[\"tel\"]"
   ]
  },
  {
   "cell_type": "markdown",
   "id": "2bd2288f",
   "metadata": {},
   "source": [
    "### Chequeando otra vez"
   ]
  },
  {
   "cell_type": "code",
   "execution_count": null,
   "id": "e7be1187",
   "metadata": {
    "scrolled": true
   },
   "outputs": [],
   "source": [
    "data = []\n",
    "\n",
    "for column in df_contacts.columns:\n",
    "    row = [\n",
    "        f\"{column}\",\n",
    "        round(1 - (df_contacts[column].isna().sum()/len(df_contacts)), ndigits = 2),\n",
    "        df_contacts[column].dtype,\n",
    "        type(df_contacts[column].iloc[0])\n",
    "    ]\n",
    "    data.append(row)\n",
    "\n",
    "col_header = [\n",
    "    'columna', \n",
    "    'porcentaje_respuesta', \n",
    "    'data_type',\n",
    "    'data_type2'\n",
    "]\n",
    "    \n",
    "tabla_descriptiva = pd.DataFrame(data, columns = col_header) \n",
    "tabla_descriptiva = tabla_descriptiva.sort_values(by = 'porcentaje_respuesta', ascending = False).reset_index(drop = True)\n",
    "tabla_descriptiva"
   ]
  },
  {
   "cell_type": "markdown",
   "id": "8a5b85f9",
   "metadata": {},
   "source": [
    "### Preprocesando columnas de texto"
   ]
  },
  {
   "cell_type": "code",
   "execution_count": null,
   "id": "529f29d8",
   "metadata": {},
   "outputs": [],
   "source": [
    "# Sustituyendo caracteres por espacios\n",
    "\n",
    "def replace_chars_with_spaces(df: pd.DataFrame, col_name: str) -> List[str]:\n",
    "    # Check that the specified column contains string values\n",
    "    if df[col_name].dtype != \"object\":\n",
    "        raise ValueError(f\"The specified column '{col_name}' does not contain string values\")\n",
    "\n",
    "    # Regex pattern that matches any non-letter, non-digit character that is not an accented character\n",
    "    pattern = re.compile(r\"[^a-zA-Z0-9áéíóúüÁÉÍÓÚÜñÑ ]\")\n",
    "\n",
    "    # List to store cleaned strings\n",
    "    cleaned_strings = []\n",
    "\n",
    "    # Iterate through each cell in the column\n",
    "    for cell in df[col_name]:\n",
    "        # Check if the cell is None or not a string\n",
    "        if cell is None or not isinstance(cell, str):\n",
    "            cleaned_strings.append(None)\n",
    "        else:\n",
    "            # Check if the cell contains only whitespace characters\n",
    "            if cell.strip() == \"\":\n",
    "                cleaned_strings.append(None)\n",
    "            else:\n",
    "                # Replace all non-letter, non-digit characters that are not accented characters with spaces\n",
    "                cleaned_string = re.sub(pattern, lambda m: ' ' if not re.match(r'[áéíóúüÁÉÍÓÚÜñÑ]', m.group(0)) else m.group(0), cell)\n",
    "                cleaned_strings.append(cleaned_string)\n",
    "\n",
    "    # Replace the original column with the cleaned strings\n",
    "    #df[col_name] = cleaned_strings\n",
    "\n",
    "    # Return the cleaned strings as a list\n",
    "    return cleaned_strings"
   ]
  },
  {
   "cell_type": "code",
   "execution_count": null,
   "id": "148806ba",
   "metadata": {},
   "outputs": [],
   "source": [
    "df_contacts['profesion_procesada'] = replace_chars_with_spaces(df_contacts, 'profesion')\n",
    "df_contacts['institucion_procesada'] = replace_chars_with_spaces(df_contacts, 'institucion')"
   ]
  },
  {
   "cell_type": "markdown",
   "id": "cbddf517",
   "metadata": {},
   "source": [
    "### Reemplazando palabras clave"
   ]
  },
  {
   "cell_type": "code",
   "execution_count": null,
   "id": "5f2bff9d",
   "metadata": {},
   "outputs": [],
   "source": [
    "def replace_words(df, column_name, replacements):\n",
    "    \"\"\"\n",
    "    Replaces all occurrences of whole words specified in the `replacements` dictionary with their corresponding\n",
    "    replacement values in the specified column of the DataFrame.\n",
    "    \n",
    "    Parameters:\n",
    "        df (pandas.DataFrame): The DataFrame containing the column to modify.\n",
    "        column_name (str): The name of the column to modify.\n",
    "        replacements (dict): A dictionary mapping words to their replacement values.\n",
    "        \n",
    "    Returns:\n",
    "        pandas.DataFrame: The modified DataFrame.\n",
    "    \"\"\"\n",
    "    # create a copy of the DataFrame to avoid modifying the original\n",
    "    modified_df = df.copy()\n",
    "    \n",
    "    # replace all occurrences of whole words specified in the `replacements` dictionary\n",
    "    for old_word, new_word in replacements.items():\n",
    "        # construct a regular expression pattern to match whole words\n",
    "        pattern = r'\\b{}\\b'.format(old_word)\n",
    "        # use the pattern with the `replace()` method to replace whole words only\n",
    "        modified_df[column_name] = modified_df[column_name].str.replace(pattern, new_word)\n",
    "    \n",
    "    return modified_df"
   ]
  },
  {
   "cell_type": "code",
   "execution_count": null,
   "id": "223b110d",
   "metadata": {},
   "outputs": [],
   "source": [
    "# Diccionario con palabras clave a reemplazar\n",
    "palabras_profesion_reemplazo = {\n",
    "    'ing': 'ingeniero',\n",
    "    'vp': 'vicepresidente',\n",
    "    'jubido': 'jubilado',\n",
    "    'ceo': 'gerente',\n",
    "    'lic': 'licenciado',\n",
    "    'adm': 'administrador',\n",
    "    'manager': 'gerente',\n",
    "    'dr': 'doctor',\n",
    "    'pensionado': 'jubilado',\n",
    "    'pensionada': 'jubilado',\n",
    "    'cfo': 'gerente',\n",
    "    'gte': 'gerente',\n",
    "    'cto': 'gerente',\n",
    "    'tec': 'técnico',\n",
    "    'docente': 'profesor',\n",
    "    'academica': 'profesor',\n",
    "    'académica': 'profesor',\n",
    "    'academico': 'profesor',\n",
    "    'académico': 'profesor',\n",
    "    'cio': 'gerente',\n",
    "    'gg': 'gerente general'\n",
    "}\n",
    "palabras_institucion_reemplazo = {'u': 'universidad'\n",
    "                                 }"
   ]
  },
  {
   "cell_type": "code",
   "execution_count": null,
   "id": "75f09d82",
   "metadata": {},
   "outputs": [],
   "source": [
    "df_contacts = replace_words(df_contacts, 'profesion_procesada', palabras_profesion_reemplazo)"
   ]
  },
  {
   "cell_type": "code",
   "execution_count": null,
   "id": "dc71736d",
   "metadata": {},
   "outputs": [],
   "source": [
    "df_contacts.to_excel('df_contacts_cleaning_test1.xlsx')"
   ]
  },
  {
   "cell_type": "markdown",
   "id": "c85f2131",
   "metadata": {},
   "source": [
    "### Corrigiendo errores de ortografía en columnas con texto"
   ]
  },
  {
   "cell_type": "code",
   "execution_count": null,
   "id": "bde6c7ef",
   "metadata": {},
   "outputs": [],
   "source": [
    "# Crear diccionario con palabras que no deben ser corregidas\n",
    "\n",
    "correct_spelling_list = [\n",
    "    'cientista',\n",
    "     'rrhh',\n",
    "     'gorbea',\n",
    "     'psicopedagoga',\n",
    "     'tecnólogo',\n",
    "     'seremi',\n",
    "     '3er',\n",
    "     'msc',\n",
    "     'luksic',\n",
    "     'free lancer',\n",
    "     'arauco',\n",
    "     'unep',\n",
    "     'h2v',\n",
    "     'policy',\n",
    "     'pyme',\n",
    "     'faenero',\n",
    "     'demógrafa',\n",
    "     'coaching',\n",
    "     'gestora',\n",
    "     'rrpp'\n",
    "]    \n",
    "\n",
    "known_correct_spellings = dict(zip(correct_spelling_list, correct_spelling_list))"
   ]
  },
  {
   "cell_type": "code",
   "execution_count": null,
   "id": "fdd07209",
   "metadata": {},
   "outputs": [],
   "source": [
    "# Definiendo función correctora\n",
    "def correct_spelling(df, column_name, ignore_words=None):\n",
    "    # initialize spellchecker\n",
    "    spell = SpellChecker(language='es')\n",
    "\n",
    "    # initialize correction counter dictionary\n",
    "    correction_counter_dict = {}\n",
    "    \n",
    "    # create a copy of the dataframe to avoid modifying the original\n",
    "    corrected_df = df.copy()\n",
    "\n",
    "    # iterate over each cell in the specified column and correct its spelling\n",
    "    for index, row in corrected_df.iterrows():\n",
    "        # get the text in the current cell\n",
    "        text = row[column_name]\n",
    "\n",
    "        # check if the cell is NaN or not of type string\n",
    "        if isinstance(text, str):\n",
    "            # split the text into words\n",
    "            words = text.split()\n",
    "\n",
    "            # correct the spelling of each word, ignoring certain words if specified\n",
    "            corrected_words = []\n",
    "            for word in words:\n",
    "                if ignore_words and word in ignore_words:\n",
    "                    corrected_word = word\n",
    "                elif word in known_correct_spellings:\n",
    "                    corrected_word = known_correct_spellings[word]\n",
    "                else:\n",
    "                    corrected_word = spell.correction(word)\n",
    "                    if corrected_word is None:\n",
    "                        corrected_word = ''\n",
    "                    if word != corrected_word:\n",
    "                        if corrected_word in correction_counter_dict.keys():\n",
    "                            correction_counter_dict[corrected_word] += 1\n",
    "                        else:\n",
    "                            correction_counter_dict[corrected_word] = 1\n",
    "                corrected_words.append(corrected_word)\n",
    "            \n",
    "            try:\n",
    "                # join the corrected words back into a single string\n",
    "                corrected_text = ' '.join(corrected_words)\n",
    "            except:\n",
    "                print(index, corrected_words)\n",
    "                \n",
    "            # update the cell in the dataframe with the corrected text\n",
    "            corrected_df.at[index, f'{column_name}_corregida'] = corrected_text\n",
    "\n",
    "    return corrected_df, correction_counter_dict"
   ]
  },
  {
   "cell_type": "code",
   "execution_count": null,
   "id": "0e130eda",
   "metadata": {},
   "outputs": [],
   "source": [
    "# Aplicando corrección de ortografía\n",
    "df_contacts, correction_counter = correct_spelling(df_contacts, 'profesion_procesada')"
   ]
  },
  {
   "cell_type": "code",
   "execution_count": null,
   "id": "93694913",
   "metadata": {},
   "outputs": [],
   "source": [
    "# Capitalizando columnas de texto\n",
    "for column in ['profesion', 'institucion', 'profesion_procesada', 'institucion_procesada', 'profesion_procesada_corregida']:\n",
    "    df_contacts[column] = df_contacts[column].str.capitalize()"
   ]
  },
  {
   "cell_type": "code",
   "execution_count": null,
   "id": "7c1bc6af",
   "metadata": {},
   "outputs": [],
   "source": [
    "df_contacts.columns"
   ]
  },
  {
   "cell_type": "code",
   "execution_count": null,
   "id": "aaab66f3",
   "metadata": {
    "scrolled": true
   },
   "outputs": [],
   "source": [
    "df_contacts.to_excel('df_contacts_cleaned.xlsx')"
   ]
  },
  {
   "cell_type": "code",
   "execution_count": null,
   "id": "ad235292",
   "metadata": {},
   "outputs": [],
   "source": [
    "df_contacts.to_csv('df_contacts_cleaned.csv')"
   ]
  }
 ],
 "metadata": {
  "kernelspec": {
   "display_name": "Python 3",
   "language": "python",
   "name": "python3"
  },
  "language_info": {
   "codemirror_mode": {
    "name": "ipython",
    "version": 3
   },
   "file_extension": ".py",
   "mimetype": "text/x-python",
   "name": "python",
   "nbconvert_exporter": "python",
   "pygments_lexer": "ipython3",
   "version": "3.8.8"
  }
 },
 "nbformat": 4,
 "nbformat_minor": 5
}
