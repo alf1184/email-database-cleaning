{
 "cells": [
  {
   "cell_type": "code",
   "execution_count": null,
   "id": "0d0da677",
   "metadata": {},
   "outputs": [],
   "source": [
    "import pandas as pd\n",
    "import os\n",
    "from spellchecker import SpellChecker\n",
    "from typing import List\n",
    "import re"
   ]
  },
  {
   "cell_type": "code",
   "execution_count": null,
   "id": "ff847267",
   "metadata": {},
   "outputs": [],
   "source": [
    "# Estableciendo directorio\n",
    "tar = os.chdir(r\"undisclosed\")\n",
    "\n",
    "# Leyendo base\n",
    "df_contacts_not_in_old = pd.read_csv(\"nueva_base/df_contacts_not_in_old.csv\")"
   ]
  },
  {
   "cell_type": "code",
   "execution_count": null,
   "id": "30435212",
   "metadata": {},
   "outputs": [],
   "source": [
    "df_contacts_not_in_old.head()"
   ]
  },
  {
   "cell_type": "markdown",
   "id": "afa979a5",
   "metadata": {},
   "source": [
    "### Limpiando"
   ]
  },
  {
   "cell_type": "code",
   "execution_count": null,
   "id": "71b586f8",
   "metadata": {},
   "outputs": [],
   "source": [
    "# emails ya están en mayúscula\n",
    "\n",
    "# Poniendo mayúsculas en nombres y apellidos\n",
    "for column in ['nombre', 'apellido']:\n",
    "    df_contacts_not_in_old[column] = df_contacts_not_in_old[column].str.title()\n",
    "    \n",
    "# Cambiando columnas de texto a minúscula para facilitar modificación\n",
    "for column in ['profesion', 'institucion']:\n",
    "    df_contacts_not_in_old[column] = df_contacts_not_in_old[column].str.lower()"
   ]
  },
  {
   "cell_type": "code",
   "execution_count": null,
   "id": "5666055a",
   "metadata": {},
   "outputs": [],
   "source": [
    "# Limpiando teléfonos\n",
    "\n",
    "# Remove any character that is not a '+' or digit from each string\n",
    "df_contacts_not_in_old[\"tel\"] = df_contacts_not_in_old[\"tel\"].str.replace(r\"[^\\d+]\", \"\", regex=True)\n",
    "\n",
    "# If a cell contains 9 characters and the first character is '9', add '+56' to the beginning\n",
    "df_contacts_not_in_old.loc[(df_contacts_not_in_old[\"tel\"].str.len() == 9) & (df_contacts_not_in_old[\"tel\"].str.startswith(\"9\")), \"tel\"] = \"+56\" + df_contacts_not_in_old[\"tel\"]\n",
    "\n",
    "# If a cell contains 8 digits and no other characters, add '+569' to the beginning\n",
    "df_contacts_not_in_old.loc[(df_contacts_not_in_old[\"tel\"].str.len() == 8) & (df_contacts_not_in_old[\"tel\"].str.isnumeric()), \"tel\"] = \"+569\" + df_contacts_not_in_old[\"tel\"]\n",
    "\n",
    "# If a cell contains 11 characters and the first three characters are '569', add '+' to the beginning\n",
    "df_contacts_not_in_old.loc[(df_contacts_not_in_old[\"tel\"].str.len() == 11) & (df_contacts_not_in_old[\"tel\"].str.startswith(\"569\")), \"tel\"] = \"+\" + df_contacts_not_in_old[\"tel\"]"
   ]
  },
  {
   "cell_type": "code",
   "execution_count": null,
   "id": "04fddcab",
   "metadata": {},
   "outputs": [],
   "source": [
    "# Cambiando nombre a c1 por c4 en nueva base\n",
    "df_contacts_not_in_old = df_contacts_not_in_old.rename(columns = {'c1': 'c4'})"
   ]
  },
  {
   "cell_type": "code",
   "execution_count": null,
   "id": "ef43cf65",
   "metadata": {
    "scrolled": true
   },
   "outputs": [],
   "source": [
    "df_contacts_not_in_old.head()"
   ]
  },
  {
   "cell_type": "markdown",
   "id": "662e34ff",
   "metadata": {},
   "source": [
    "### Preprocesando columnas de texto"
   ]
  },
  {
   "cell_type": "code",
   "execution_count": null,
   "id": "cf5b5e9a",
   "metadata": {},
   "outputs": [],
   "source": [
    "# Sustituyendo caracteres por espacios\n",
    "\n",
    "def replace_chars_with_spaces(df: pd.DataFrame, col_name: str) -> List[str]:\n",
    "    # Check that the specified column contains string values\n",
    "    if df[col_name].dtype != \"object\":\n",
    "        raise ValueError(f\"The specified column '{col_name}' does not contain string values\")\n",
    "\n",
    "    # Regex pattern that matches any non-letter, non-digit character that is not an accented character\n",
    "    pattern = re.compile(r\"[^a-zA-Z0-9áéíóúüÁÉÍÓÚÜñÑ ]\")\n",
    "\n",
    "    # List to store cleaned strings\n",
    "    cleaned_strings = []\n",
    "\n",
    "    # Iterate through each cell in the column\n",
    "    for cell in df[col_name]:\n",
    "        # Check if the cell is None or not a string\n",
    "        if cell is None or not isinstance(cell, str):\n",
    "            cleaned_strings.append(None)\n",
    "        else:\n",
    "            # Check if the cell contains only whitespace characters\n",
    "            if cell.strip() == \"\":\n",
    "                cleaned_strings.append(None)\n",
    "            else:\n",
    "                # Replace all non-letter, non-digit characters that are not accented characters with spaces\n",
    "                cleaned_string = re.sub(pattern, lambda m: ' ' if not re.match(r'[áéíóúüÁÉÍÓÚÜñÑ]', m.group(0)) else m.group(0), cell)\n",
    "                cleaned_strings.append(cleaned_string)\n",
    "\n",
    "    # Replace the original column with the cleaned strings\n",
    "    #df[col_name] = cleaned_strings\n",
    "\n",
    "    # Return the cleaned strings as a list\n",
    "    return cleaned_strings"
   ]
  },
  {
   "cell_type": "code",
   "execution_count": null,
   "id": "0d50a8b7",
   "metadata": {},
   "outputs": [],
   "source": [
    "df_contacts_not_in_old['profesion_procesada'] = replace_chars_with_spaces(df_contacts_not_in_old, 'profesion')\n",
    "df_contacts_not_in_old['institucion_procesada'] = replace_chars_with_spaces(df_contacts_not_in_old, 'institucion')"
   ]
  },
  {
   "cell_type": "markdown",
   "id": "cbddf517",
   "metadata": {},
   "source": [
    "### Reemplazando palabras clave"
   ]
  },
  {
   "cell_type": "markdown",
   "id": "09b5282b",
   "metadata": {},
   "source": [
    "### Reemplazando palabras clave"
   ]
  },
  {
   "cell_type": "code",
   "execution_count": null,
   "id": "6f994225",
   "metadata": {},
   "outputs": [],
   "source": [
    "def replace_words(df, column_name, replacements):\n",
    "    \"\"\"\n",
    "    Replaces all occurrences of whole words specified in the `replacements` dictionary with their corresponding\n",
    "    replacement values in the specified column of the DataFrame.\n",
    "    \n",
    "    Parameters:\n",
    "        df (pandas.DataFrame): The DataFrame containing the column to modify.\n",
    "        column_name (str): The name of the column to modify.\n",
    "        replacements (dict): A dictionary mapping words to their replacement values.\n",
    "        \n",
    "    Returns:\n",
    "        pandas.DataFrame: The modified DataFrame.\n",
    "    \"\"\"\n",
    "    # create a copy of the DataFrame to avoid modifying the original\n",
    "    modified_df = df.copy()\n",
    "    \n",
    "    # replace all occurrences of whole words specified in the `replacements` dictionary\n",
    "    for old_word, new_word in replacements.items():\n",
    "        # construct a regular expression pattern to match whole words\n",
    "        pattern = r'\\b{}\\b'.format(old_word)\n",
    "        # use the pattern with the `replace()` method to replace whole words only\n",
    "        modified_df[column_name] = modified_df[column_name].str.replace(pattern, new_word)\n",
    "    \n",
    "    return modified_df"
   ]
  },
  {
   "cell_type": "code",
   "execution_count": null,
   "id": "3239548b",
   "metadata": {},
   "outputs": [],
   "source": [
    "# Diccionario con palabras clave a reemplazar\n",
    "palabras_profesion_reemplazo = {\n",
    "    'ing': 'ingeniero',\n",
    "    'vp': 'vicepresidente',\n",
    "    'jubido': 'jubilado',\n",
    "    'ceo': 'gerente',\n",
    "    'lic': 'licenciado',\n",
    "    'adm': 'administrador',\n",
    "    'manager': 'gerente',\n",
    "    'dr': 'doctor',\n",
    "    'pensionado': 'jubilado',\n",
    "    'pensionada': 'jubilado',\n",
    "    'cfo': 'gerente',\n",
    "    'gte': 'gerente',\n",
    "    'cto': 'gerente',\n",
    "    'tec': 'técnico',\n",
    "    'docente': 'profesor',\n",
    "    'academica': 'profesor',\n",
    "    'académica': 'profesor',\n",
    "    'academico': 'profesor',\n",
    "    'académico': 'profesor',\n",
    "    'cio': 'gerente',\n",
    "    'gg': 'gerente general'\n",
    "}\n",
    "palabras_institucion_reemplazo = {'u': 'universidad'\n",
    "                                 }"
   ]
  },
  {
   "cell_type": "code",
   "execution_count": null,
   "id": "fdb1e6d7",
   "metadata": {},
   "outputs": [],
   "source": [
    "df_contacts_not_in_old = replace_words(df_contacts_not_in_old, 'profesion_procesada', palabras_profesion_reemplazo)"
   ]
  },
  {
   "cell_type": "markdown",
   "id": "c85f2131",
   "metadata": {},
   "source": [
    "### Corrigiendo errores de ortografía en columnas con texto"
   ]
  },
  {
   "cell_type": "code",
   "execution_count": null,
   "id": "38d2cf1f",
   "metadata": {},
   "outputs": [],
   "source": [
    "# Crear diccionario con palabras que no deben ser corregidas\n",
    "\n",
    "correct_spelling_list = [\n",
    "    'cientista',\n",
    "     'rrhh',\n",
    "     'gorbea',\n",
    "     'psicopedagoga',\n",
    "     'tecnólogo',\n",
    "     'seremi',\n",
    "     '3er',\n",
    "     'msc',\n",
    "     'luksic',\n",
    "     'free lancer',\n",
    "     'arauco',\n",
    "     'unep',\n",
    "     'h2v',\n",
    "     'policy',\n",
    "     'pyme',\n",
    "     'faenero',\n",
    "     'demógrafa',\n",
    "     'coaching',\n",
    "     'gestora',\n",
    "     'rrpp'\n",
    "]    \n",
    "\n",
    "known_correct_spellings = dict(zip(correct_spelling_list, correct_spelling_list))"
   ]
  },
  {
   "cell_type": "code",
   "execution_count": null,
   "id": "db4997a1",
   "metadata": {},
   "outputs": [],
   "source": [
    "# Definiendo función correctora\n",
    "def correct_spelling(df, column_name, ignore_words=None):\n",
    "    # initialize spellchecker\n",
    "    spell = SpellChecker(language='es')\n",
    "\n",
    "    # initialize correction counter dictionary\n",
    "    correction_counter_dict = {}\n",
    "    \n",
    "    # create a copy of the dataframe to avoid modifying the original\n",
    "    corrected_df = df.copy()\n",
    "\n",
    "    # iterate over each cell in the specified column and correct its spelling\n",
    "    for index, row in corrected_df.iterrows():\n",
    "        # get the text in the current cell\n",
    "        text = row[column_name]\n",
    "\n",
    "        # check if the cell is NaN or not of type string\n",
    "        if isinstance(text, str):\n",
    "            # split the text into words\n",
    "            words = text.split()\n",
    "\n",
    "            # correct the spelling of each word, ignoring certain words if specified\n",
    "            corrected_words = []\n",
    "            for word in words:\n",
    "                if ignore_words and word in ignore_words:\n",
    "                    corrected_word = word\n",
    "                elif word in known_correct_spellings:\n",
    "                    corrected_word = known_correct_spellings[word]\n",
    "                else:\n",
    "                    corrected_word = spell.correction(word)\n",
    "                    if corrected_word is None:\n",
    "                        corrected_word = ''\n",
    "                    if word != corrected_word:\n",
    "                        if corrected_word in correction_counter_dict.keys():\n",
    "                            correction_counter_dict[corrected_word] += 1\n",
    "                        else:\n",
    "                            correction_counter_dict[corrected_word] = 1\n",
    "                corrected_words.append(corrected_word)\n",
    "            \n",
    "            try:\n",
    "                # join the corrected words back into a single string\n",
    "                corrected_text = ' '.join(corrected_words)\n",
    "            except:\n",
    "                print(index, corrected_words)\n",
    "                \n",
    "            # update the cell in the dataframe with the corrected text\n",
    "            corrected_df.at[index, f'{column_name}_corregida'] = corrected_text\n",
    "\n",
    "    return corrected_df, correction_counter_dict"
   ]
  },
  {
   "cell_type": "code",
   "execution_count": null,
   "id": "76b8edd4",
   "metadata": {},
   "outputs": [],
   "source": [
    "# Aplicando corrección de ortografía\n",
    "df_contacts_not_in_old, correction_counter = correct_spelling(df_contacts_not_in_old, 'profesion_procesada')"
   ]
  },
  {
   "cell_type": "code",
   "execution_count": null,
   "id": "66b31982",
   "metadata": {},
   "outputs": [],
   "source": [
    "# Capitalizando columnas de texto\n",
    "for column in ['profesion', 'institucion', 'profesion_procesada', 'institucion_procesada', 'profesion_procesada_corregida']:\n",
    "    df_contacts_not_in_old[column] = df_contacts_not_in_old[column].str.capitalize()"
   ]
  },
  {
   "cell_type": "code",
   "execution_count": null,
   "id": "bbbf41af",
   "metadata": {},
   "outputs": [],
   "source": [
    "# Leyendo base original\n",
    "\n",
    "df_contacts_with_c4 = pd.read_csv(\"final_versions/df_contacts_with_c4.csv\")\n",
    "df_contacts_with_c4.columns"
   ]
  },
  {
   "cell_type": "code",
   "execution_count": null,
   "id": "6183cb1b",
   "metadata": {},
   "outputs": [],
   "source": [
    "# Concatenate the dataframes\n",
    "df_contacts_extended = pd.concat([df_contacts_with_c4, df_contacts_not_in_old], join='outer')"
   ]
  },
  {
   "cell_type": "code",
   "execution_count": null,
   "id": "4e885ebb",
   "metadata": {},
   "outputs": [],
   "source": [
    "print(len(df_contacts_with_c4))\n",
    "print(len(df_contacts_not_in_old))\n",
    "print(len(df_contacts_extended))"
   ]
  },
  {
   "cell_type": "code",
   "execution_count": null,
   "id": "fcb1e368",
   "metadata": {
    "scrolled": true
   },
   "outputs": [],
   "source": [
    "df_contacts_extended.columns"
   ]
  },
  {
   "cell_type": "code",
   "execution_count": null,
   "id": "0cb3fabb",
   "metadata": {
    "scrolled": true
   },
   "outputs": [],
   "source": [
    "df_contacts_extended = df_contacts_extended.iloc[:, 7:]\n",
    "df_contacts_extended.columns"
   ]
  },
  {
   "cell_type": "code",
   "execution_count": null,
   "id": "2aac6bae",
   "metadata": {},
   "outputs": [],
   "source": [
    "df_contacts_extended.to_excel('final_versions/df_contacts_extended.xlsx')\n",
    "df_contacts_extended.to_csv('final_versions/df_contacts_extended.csv')"
   ]
  }
 ],
 "metadata": {
  "kernelspec": {
   "display_name": "Python 3",
   "language": "python",
   "name": "python3"
  },
  "language_info": {
   "codemirror_mode": {
    "name": "ipython",
    "version": 3
   },
   "file_extension": ".py",
   "mimetype": "text/x-python",
   "name": "python",
   "nbconvert_exporter": "python",
   "pygments_lexer": "ipython3",
   "version": "3.8.8"
  }
 },
 "nbformat": 4,
 "nbformat_minor": 5
}
