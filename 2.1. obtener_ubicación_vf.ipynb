{
 "cells": [
  {
   "cell_type": "code",
   "execution_count": null,
   "id": "49d5eebf",
   "metadata": {},
   "outputs": [],
   "source": [
    "import pandas as pd\n",
    "import numpy as np\n",
    "import os\n",
    "from geopy.geocoders import Nominatim\n",
    "from geopy.point import Point\n",
    "import warnings\n",
    "warnings.filterwarnings(\"ignore\")"
   ]
  },
  {
   "cell_type": "markdown",
   "id": "61d1e2c5",
   "metadata": {},
   "source": [
    "### Los datos son confidenciales"
   ]
  },
  {
   "cell_type": "code",
   "execution_count": null,
   "id": "74660777",
   "metadata": {},
   "outputs": [],
   "source": [
    "# Estableciendo directorio\n",
    "tar = os.chdir(r\"undisclosed\")\n",
    "\n",
    "# Leyendo base\n",
    "df_contacts = pd.read_csv(\"undisclosed\")"
   ]
  },
  {
   "cell_type": "code",
   "execution_count": null,
   "id": "7fdb44f5",
   "metadata": {
    "scrolled": true
   },
   "outputs": [],
   "source": [
    "df_contacts.shape"
   ]
  },
  {
   "cell_type": "code",
   "execution_count": null,
   "id": "906543b2",
   "metadata": {},
   "outputs": [],
   "source": [
    "df_contacts.sample(n = 2000)"
   ]
  },
  {
   "cell_type": "code",
   "execution_count": null,
   "id": "64f63a77",
   "metadata": {},
   "outputs": [],
   "source": [
    "# Slicing dataframe\n",
    "df_contacts_1 = df_contacts.iloc[0:499]\n",
    "df_contacts_2 = df_contacts.iloc[500:999]\n",
    "df_contacts_3 = df_contacts.iloc[1000:1499]\n",
    "df_contacts_4 = df_contacts.iloc[1500::]"
   ]
  },
  {
   "cell_type": "markdown",
   "id": "dbc1f11a",
   "metadata": {},
   "source": [
    "### Definiendo funciones necesarias"
   ]
  },
  {
   "cell_type": "code",
   "execution_count": null,
   "id": "e1a56c56",
   "metadata": {},
   "outputs": [],
   "source": [
    "def reverse_geocoding(lat, lon):\n",
    "    '''\n",
    "    Obtiene una string de dirección a partir de coordenadas.\n",
    "    '''\n",
    "    geolocator = Nominatim(user_agent=\"test\")\n",
    "    try:\n",
    "        location = geolocator.reverse(Point(lat, lon))\n",
    "        #return location.raw['country']\n",
    "        #return location.raw['address']['city']\n",
    "        return location.raw['display_name']\n",
    "    except:\n",
    "        return None\n",
    "    \n",
    "def retrieve_comuna_chile(row, row_index):\n",
    "    '''\n",
    "    Obtiene comuna a partir de una string de dirección.\n",
    "    '''\n",
    "    if not row: # check if row is empty\n",
    "        return None\n",
    "    try:\n",
    "        items = row.split(',')\n",
    "        n = len(items)\n",
    "        if items[n-1].strip() == 'Chile':\n",
    "            if items[n-2].strip().isdigit():\n",
    "                return items[n-5].strip()\n",
    "            else:\n",
    "                return items[n-4].strip()\n",
    "        else:\n",
    "            return items[n-1].strip()\n",
    "    except IndexError:\n",
    "        print(f\"IndexError in row {row_index}: {row}. Comuna could not be retrieved.\")\n",
    "        return \"could not be retrieved\""
   ]
  },
  {
   "cell_type": "markdown",
   "id": "37d36610",
   "metadata": {},
   "source": [
    "### Iterando y obteniendo dirección a través de los data frames"
   ]
  },
  {
   "cell_type": "code",
   "execution_count": null,
   "id": "bcaae1ae",
   "metadata": {
    "scrolled": false
   },
   "outputs": [],
   "source": [
    "counter = 0\n",
    "\n",
    "for df in (df_contacts_1, df_contacts_2, df_contacts_3, df_contacts_4):\n",
    "    # Contando loop\n",
    "    counter += 1\n",
    "    counter_str = str(counter)\n",
    "    \n",
    "    # Se limpian las coordenadas\n",
    "    df['new_latitude'] = df['latitude'].str.replace('\\'', '')\n",
    "    df['new_longitude'] = df['longitude'].str.replace('\\'', '')\n",
    "    \n",
    "    # Obtener dirección a partir de coordenadas\n",
    "    df['address'] = np.vectorize(reverse_geocoding)(df['new_latitude'], df['new_longitude'])\n",
    "    \n",
    "    # Obtener comuna a partir de dirección\n",
    "    df['comuna'] = df.apply(lambda row: retrieve_comuna_chile(row['address'], row.name), axis=1)\n",
    "    \n",
    "    # Guardando df\n",
    "    df.to_csv(f'df_contacts_located_{counter_str}.csv')\n",
    "    df.to_excel(f'df_contacts_located_{counter_str}.xlsx')\n",
    "    \n",
    "    # Marcando loop completado\n",
    "    print(f'El loop número {counter_str} se ha completado')"
   ]
  }
 ],
 "metadata": {
  "kernelspec": {
   "display_name": "Python 3",
   "language": "python",
   "name": "python3"
  },
  "language_info": {
   "codemirror_mode": {
    "name": "ipython",
    "version": 3
   },
   "file_extension": ".py",
   "mimetype": "text/x-python",
   "name": "python",
   "nbconvert_exporter": "python",
   "pygments_lexer": "ipython3",
   "version": "3.8.8"
  }
 },
 "nbformat": 4,
 "nbformat_minor": 5
}
