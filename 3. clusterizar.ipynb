{
 "cells": [
  {
   "cell_type": "code",
   "execution_count": null,
   "id": "fd922334",
   "metadata": {},
   "outputs": [],
   "source": [
    "import pandas as pd\n",
    "import numpy as np\n",
    "import os"
   ]
  },
  {
   "cell_type": "code",
   "execution_count": null,
   "id": "18ad3aff",
   "metadata": {},
   "outputs": [],
   "source": [
    "# Estableciendo directorio\n",
    "tar = os.chdir(r\"undisclosed\")\n",
    "\n",
    "# Leyendo base\n",
    "df_contacts = pd.read_csv(\"df_contacts_cleaned.csv\")"
   ]
  },
  {
   "cell_type": "code",
   "execution_count": null,
   "id": "c49403c0",
   "metadata": {},
   "outputs": [],
   "source": [
    "def cluster_text(column, column_str):\n",
    "\n",
    "    #Devuelve clusters a partir de columnas de texto.\n",
    "    \n",
    "    from sklearn.feature_extraction.text import TfidfVectorizer\n",
    "    vectorizer = TfidfVectorizer()\n",
    "    X = vectorizer.fit_transform(column)\n",
    "\n",
    "    import matplotlib.pyplot as plt\n",
    "    from sklearn.cluster import KMeans\n",
    "    Sum_of_squared_distances = []\n",
    "    K = range(2,10)\n",
    "    for k in K:\n",
    "       km = KMeans(n_clusters=k, max_iter=200, n_init=10)\n",
    "       km = km.fit(X)\n",
    "       Sum_of_squared_distances.append(km.inertia_)\n",
    "    plt.plot(K, Sum_of_squared_distances, 'bx-')\n",
    "    plt.xlabel('k')\n",
    "    plt.ylabel('Sum_of_squared_distances')\n",
    "    plt.title('Elbow Method For Optimal k')\n",
    "    plt.show()\n",
    "\n",
    "    print('How many clusters do you want to use?')\n",
    "    true_k = int(input())\n",
    "    model = KMeans(n_clusters=true_k, init='k-means++', max_iter=200, n_init=10)\n",
    "    model.fit(X)\n",
    "\n",
    "    labels=model.labels_\n",
    "    df_cluster=pd.DataFrame(list(zip(column,labels)),columns=['title',f'cluster_{column_str}'])\n",
    "    #print(clusters.sort_values(by=['cluster']))\n",
    "        \n",
    "    return df_cluster"
   ]
  },
  {
   "cell_type": "code",
   "execution_count": null,
   "id": "4bbab10d",
   "metadata": {
    "scrolled": false
   },
   "outputs": [],
   "source": [
    "column_list_cluster = ['profesion_procesada_corregida']\n",
    "\n",
    "for column in column_list_cluster:\n",
    "    df_contacts_column = pd.DataFrame()\n",
    "    df_contacts_column[['email', column]] = df_contacts[['email', column]].dropna().reset_index(drop = True)\n",
    "    df_contacts_cluster_column = cluster_text(df_contacts_column[column], column)\n",
    "    df_contacts_column_res_index = df_contacts_column.reset_index(drop = True)\n",
    "    df_contacts_column = pd.merge(\n",
    "        df_contacts_column_res_index, \n",
    "        df_contacts_cluster_column, \n",
    "        left_index=True, \n",
    "        right_index=True\n",
    "    )\n",
    "    df_contacts_column = df_contacts_columnds.drop()\n",
    "    df_contacts = pd.merge(df_contacts, df_contacts_column, how = 'left', on = 'email')"
   ]
  },
  {
   "cell_type": "markdown",
   "id": "99f6306c",
   "metadata": {},
   "source": [
    "df_contacts.cluster_profesion.value_counts()"
   ]
  },
  {
   "cell_type": "code",
   "execution_count": null,
   "id": "55f1892e",
   "metadata": {},
   "outputs": [],
   "source": [
    "df_contacts.to_csv('df_contacts_clusterized.csv')\n",
    "df_contacts.to_excel('df_contacts_clusterized.xlsx')"
   ]
  }
 ],
 "metadata": {
  "kernelspec": {
   "display_name": "Python 3",
   "language": "python",
   "name": "python3"
  },
  "language_info": {
   "codemirror_mode": {
    "name": "ipython",
    "version": 3
   },
   "file_extension": ".py",
   "mimetype": "text/x-python",
   "name": "python",
   "nbconvert_exporter": "python",
   "pygments_lexer": "ipython3",
   "version": "3.8.8"
  }
 },
 "nbformat": 4,
 "nbformat_minor": 5
}
